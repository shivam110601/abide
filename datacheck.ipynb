{
  "nbformat": 4,
  "nbformat_minor": 0,
  "metadata": {
    "colab": {
      "provenance": []
    },
    "kernelspec": {
      "name": "python3",
      "display_name": "Python 3"
    },
    "language_info": {
      "name": "python"
    }
  },
  "cells": [
    {
      "cell_type": "code",
      "execution_count": 1,
      "metadata": {
        "colab": {
          "base_uri": "https://localhost:8080/"
        },
        "id": "IG3Gi_y8ydA1",
        "outputId": "5a99954b-a2db-4374-c46b-317c233b7ed3"
      },
      "outputs": [
        {
          "output_type": "stream",
          "name": "stdout",
          "text": [
            "Requirement already satisfied: opencv-python-headless in /usr/local/lib/python3.10/dist-packages (4.8.1.78)\n",
            "Requirement already satisfied: numpy in /usr/local/lib/python3.10/dist-packages (1.23.5)\n"
          ]
        }
      ],
      "source": [
        "pip install opencv-python-headless numpy"
      ]
    },
    {
      "cell_type": "code",
      "source": [
        "from google.colab import drive\n",
        "drive.mount('/content/drive')"
      ],
      "metadata": {
        "colab": {
          "base_uri": "https://localhost:8080/"
        },
        "id": "NjvDenxQ1Bcs",
        "outputId": "7d5b7fec-614a-49b7-8994-831b3d19173d"
      },
      "execution_count": 2,
      "outputs": [
        {
          "output_type": "stream",
          "name": "stdout",
          "text": [
            "Mounted at /content/drive\n"
          ]
        }
      ]
    },
    {
      "cell_type": "code",
      "source": [
        "import os\n",
        "import cv2\n",
        "import numpy as np\n",
        "\n",
        "# Directory containing PNG images\n",
        "image_dir = '/content/drive/MyDrive/ABIDE-I dataset/UCLA_2_Prep_Data/validate/tdc'\n",
        "\n",
        "# Initialize an empty array to store image sizes\n",
        "image_sizes = []\n",
        "\n",
        "# Loop through the files in the directory\n",
        "for filename in os.listdir(image_dir):\n",
        "    if filename.endswith(\".png\"):\n",
        "        # Construct the full file path\n",
        "        file_path = os.path.join(image_dir, filename)\n",
        "\n",
        "        # Load the image using OpenCV\n",
        "        image = cv2.imread(file_path, cv2.IMREAD_GRAYSCALE)\n",
        "\n",
        "        # Check if the image was loaded successfully\n",
        "        if image is not None:\n",
        "            # Get the image size (width x height) as a tuple\n",
        "            image_size = (image.shape[1], image.shape[0])\n",
        "\n",
        "            # Append the size to the image_sizes array\n",
        "            image_sizes.append(image_size)\n",
        "        else:\n",
        "            print(f\"Error loading image: {file_path}\")\n",
        "\n",
        "# Convert the list of image sizes to a NumPy array\n",
        "image_sizes_array = np.array(image_sizes)\n",
        "\n",
        "# Print the image sizes as an array\n",
        "print(image_sizes_array)\n"
      ],
      "metadata": {
        "colab": {
          "base_uri": "https://localhost:8080/"
        },
        "id": "ETGXIYfo0z6g",
        "outputId": "2d4ccaee-4bdf-4677-b377-5b0ed5939817"
      },
      "execution_count": 5,
      "outputs": [
        {
          "output_type": "stream",
          "name": "stdout",
          "text": [
            "[[369 369]\n",
            " [369 369]\n",
            " [369 369]\n",
            " [369 369]\n",
            " [369 369]\n",
            " [369 369]\n",
            " [369 369]\n",
            " [369 369]\n",
            " [369 369]\n",
            " [369 369]\n",
            " [369 369]\n",
            " [369 369]\n",
            " [369 369]\n",
            " [369 369]\n",
            " [369 369]\n",
            " [369 369]\n",
            " [369 369]\n",
            " [369 369]\n",
            " [369 369]\n",
            " [369 369]\n",
            " [369 369]\n",
            " [369 369]\n",
            " [369 369]\n",
            " [369 369]\n",
            " [369 369]\n",
            " [369 369]\n",
            " [369 369]\n",
            " [369 369]\n",
            " [369 369]\n",
            " [369 369]]\n"
          ]
        }
      ]
    }
  ]
}