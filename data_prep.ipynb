{
  "cells": [
    {
      "cell_type": "markdown",
      "metadata": {
        "id": "view-in-github",
        "colab_type": "text"
      },
      "source": [
        "<a href=\"https://colab.research.google.com/github/shivam110601/abide_cnn_btech/blob/main/data_prep.ipynb\" target=\"_parent\"><img src=\"https://colab.research.google.com/assets/colab-badge.svg\" alt=\"Open In Colab\"/></a>"
      ]
    },
    {
      "cell_type": "code",
      "source": [
        "from google.colab import drive\n",
        "drive.mount('/content/drive')"
      ],
      "metadata": {
        "colab": {
          "base_uri": "https://localhost:8080/"
        },
        "id": "weksfltqMkU6",
        "outputId": "5ff73c22-e6eb-4af5-d27b-1a9518e39182"
      },
      "execution_count": null,
      "outputs": [
        {
          "output_type": "stream",
          "name": "stdout",
          "text": [
            "Mounted at /content/drive\n"
          ]
        }
      ]
    },
    {
      "cell_type": "code",
      "source": [
        "import nibabel as nib\n",
        "import numpy as np\n",
        "from PIL import Image\n",
        "import matplotlib.pyplot as plt\n",
        "import imageio\n",
        "import os\n",
        "import random\n",
        "\n",
        "random.seed(10)"
      ],
      "metadata": {
        "id": "0Ft95IafJVy2"
      },
      "execution_count": null,
      "outputs": []
    },
    {
      "cell_type": "code",
      "source": [
        "# Display array values to 4 digits of precision\n",
        "np.set_printoptions(precision=4, suppress=True)\n",
        "\n",
        "def extract_2d_slices(nii_file_path, output_dir, j):\n",
        "  # Load the .nii.gz fMRI file.\n",
        "  img = nib.load(nii_file_path)\n",
        "\n",
        "  # Get the raw data of the .nii.gz fMRI file.\n",
        "  data = img.get_fdata()\n",
        "\n",
        "  # for i in range(11, 21):   # 3d files\n",
        "  #   slice_data = data[:, :, i]\n",
        "  #   plt.figure()\n",
        "  #   plt.imshow(slice_data, cmap='gray')\n",
        "  #   plt.axis('off')  # Turn off axis labels\n",
        "\n",
        "  #   # Save the PNG image (you can customize the filename as needed)\n",
        "  #   png_filename = os.path.join(output_dir, f'slice{j:07d}_{i:03d}.png')\n",
        "  #   plt.imsave(png_filename, slice_data, cmap='gray')\n",
        "  #   plt.close()\n",
        "  for i in range(10, 20):\n",
        "    slice_data = data[:, :, i, 125]\n",
        "    plt.figure()\n",
        "    # plt.imshow(slice_data, cmap='gray')\n",
        "    # plt.axis('off')  # Turn off axis labels\n",
        "\n",
        "    # # Save the PNG image (you can customize the filename as needed)\n",
        "    png_filename = os.path.join(output_dir, f'slice{j:07d}_{i:03d}.png')\n",
        "    plt.imsave(png_filename, slice_data, cmap='gray')\n",
        "    plt.close()\n",
        "\n",
        "  # print(img.shape)\n",
        "  # print(img.header)\n",
        "\n",
        "\n",
        "\n",
        "if __name__ == \"__main__\":\n",
        "  # Get the output directory.\n",
        "  output_dir = \"/content/drive/MyDrive/ABIDE-I dataset/A_Prepared_Data/test/ASD\"\n",
        "  #asd\n",
        "  for j in range(50743, 50758): #/content/drive/MyDrive/ABIDE-I dataset/Leuven_2/0050722/session_1/rest_1/rest.nii.gz\n",
        "    nii_file_path = \"/content/drive/MyDrive/ABIDE-I dataset/Leuven_2/\"+f\"{j:07d}\"+\"/session_1/rest_1/rest.nii.gz\"\n",
        "    # Extract the 2D slices from the .nii.gz fMRI file and save them as PNG images.\n",
        "    extract_2d_slices(nii_file_path, output_dir, j)\n",
        "\n",
        "  output_dir = \"/content/drive/MyDrive/ABIDE-I dataset/A_Prepared_Data/test/TC\"\n",
        "  #tc\n",
        "  for j in range(50722, 50743):  #exclude 50729\n",
        "    if j != 50729:\n",
        "      nii_file_path = \"/content/drive/MyDrive/ABIDE-I dataset/Leuven_2/\"+f\"{j:07d}\"+\"/session_1/rest_1/rest.nii.gz\"\n",
        "      # Extract the 2D slices from the .nii.gz fMRI file and save them as PNG images.\n",
        "      extract_2d_slices(nii_file_path, output_dir, j)\n",
        "\n",
        "\n",
        "\n",
        "\n",
        "#(64, 64, 29, 200) -> Pitt -> 30 asd 27 tc -> 10 each\n",
        "#(64, 64, 40, 240) -> USM -> 58 asd 43 tc -> 11 each\n",
        "#(64, 64, 34, 200) -> Yale -> 28 asd 28 tc -> 10 each\n",
        "#(64, 64, 40, 300) -> UM_1 -> 55 asd 55 tc -> 10 each\n",
        "#(64, 64, 42, 180) -> SDSU -> 14 asd 22 tc -> 10 each\n",
        "#(80, 80, 38, 200) -> SBL -> 15 asd 15 tc -> 10 each\n",
        "#(64, 64, 29, 180) -> Stanford -> 20 asd 20 tc -> 10 each\n",
        "#(64, 64, 36, 82) -> OHSU -> 13 asd 15 tc -> 10 each\n",
        "#(64, 64, 34, 150) -> Caltech -> 19 asd 19 tc -> 10 each\n",
        "#(64, 64, 28, 240) (64, 64, 21, 320) -> CMU -> 14 asd 13 tc -> 10 each\n",
        "#(128, 128, 34) -> UCLA_1 -> 49 asd 33 tc -> 10 each\n",
        "#(64, 64, 40, 300) -> UM_2 -> 13 asd 22 tc -> 10 each\n",
        "#(96, 96, 47, 128) -> KKI -> 22 asd 33 tc -> 10 each\n",
        "#(64, 64, 29, 210) -> Olin -> 20 asd 16 tc -> 10 each\n",
        "#(80, 80, 38, 150) -> Trinity -> 24 asd 25 tc -> 10 each\n",
        "#(64, 64, 32, 250) -> Leuven_1 -> 14 asd 15 tc -> 10 each\n",
        "#(64, 64, 32, 250) -> Leuven_2 -> 15 asd 20 tc -> 10 each\n",
        "#(64, 64, 28, 120) -> MaxMun -> 24 asd 33 tc -> 10  each\n",
        "\n"
      ],
      "metadata": {
        "id": "QlBH7pfwo_ej"
      },
      "execution_count": null,
      "outputs": []
    },
    {
      "cell_type": "code",
      "execution_count": null,
      "metadata": {
        "id": "6mYgZfPN15H4",
        "colab": {
          "base_uri": "https://localhost:8080/"
        },
        "outputId": "2c5f7902-5c64-497c-9adc-73801bc85cd6"
      },
      "outputs": [
        {
          "output_type": "stream",
          "name": "stdout",
          "text": [
            "1\n",
            "2\n",
            "3\n",
            "4\n",
            "5\n",
            "6\n",
            "7\n",
            "8\n",
            "9\n",
            "10\n",
            "11\n",
            "12\n",
            "13\n",
            "14\n",
            "15\n",
            "16\n",
            "17\n",
            "18\n",
            "19\n",
            "20\n",
            "21\n",
            "22\n",
            "23\n",
            "24\n",
            "25\n",
            "26\n",
            "27\n",
            "28\n",
            "29\n",
            "30\n",
            "31\n",
            "32\n",
            "33\n",
            "34\n",
            "35\n",
            "36\n"
          ]
        }
      ],
      "source": [
        "# Display array values to 4 digits of precision\n",
        "np.set_printoptions(precision=4, suppress=True)\n",
        "\n",
        "def extract_2d_slices(nii_file_path, output_dir, j):\n",
        "  # Load the .nii.gz fMRI file.\n",
        "  img = nib.load(nii_file_path)\n",
        "\n",
        "\n",
        "  # Get the raw data of the .nii.gz fMRI file.\n",
        "  data = img.get_fdata()\n",
        "  # print(img.shape)\n",
        "\n",
        "\n",
        "  for i in range(10, 20):\n",
        "    slice_data = data[:, :, i, 90]\n",
        "    plt.figure()\n",
        "    # plt.imshow(slice_data, cmap='gray')\n",
        "    # plt.axis('off')  # Turn off axis labels\n",
        "\n",
        "    # # Save the PNG image (you can customize the filename as needed)\n",
        "    png_filename = os.path.join(output_dir, f'slice{j:07d}_{i:03d}.png')\n",
        "    plt.imsave(png_filename, slice_data, cmap='gray')\n",
        "    plt.close()\n",
        "\n",
        "\n",
        "  # print(img.shape)\n",
        "  # print(img.header)\n",
        "\n",
        "\n",
        "\n",
        "if __name__ == \"__main__\":\n",
        "  # Get the output directory.\n",
        "  # output_dir = \"/content/drive/MyDrive/ABIDE-I dataset/A_Prepared_Data/validate/ASD\"\n",
        "  tc = [51108, 51109, 51110, 51111, 51112, 51113, 51114, 51115, 51116, 51117, 51118, 51119, 51120, 51121, 51122, 51123, 51124, 51125, 51126, 51127, 51128, 51129, 51130, 51131, 51146, 51147, 51148, 51149, 51150, 51151, 51152, 51153, 51154, 51155, 51156, 51159]\n",
        "\n",
        "\n",
        "  # cnt = 1\n",
        "  # for j in asd:                     #/content/drive/MyDrive/ABIDE-I dataset/NYU_c\n",
        "  #   path = \"/content/drive/MyDrive/ABIDE-I dataset/NYU_c/\"+f\"{j:07d}\"+\"/session_1\"\n",
        "  #   if os.path.exists(os.path.join(path, \"rest_1\")):\n",
        "  #     path = os.path.join(path, \"rest_1\")\n",
        "  #   elif os.path.exists(os.path.join(path, \"rest_2\")):\n",
        "  #     path = os.path.join(path, \"rest_2\")\n",
        "  #   else:\n",
        "  #     path = os.path.join(path, \"rest_3\")\n",
        "  #   nii_file_path = os.path.join(path, \"rest.nii.gz\")\n",
        "  #   # Extract the 2D slices from the .nii.gz fMRI file and save them as PNG images.\n",
        "  #   print(cnt)\n",
        "  #   cnt+=1\n",
        "  #   extract_2d_slices(nii_file_path, output_dir, j)\n",
        "\n",
        "  output_dir = \"/content/drive/MyDrive/ABIDE-I dataset/A_Prepared_Data/train/TC\"\n",
        "  cnt = 1\n",
        "  for j in tc:\n",
        "    path = \"/content/drive/MyDrive/ABIDE-I dataset/NYU_e/\"+f\"{j:07d}\"+\"/session_1\"\n",
        "    if os.path.exists(os.path.join(path, \"rest_1\")):\n",
        "      path = os.path.join(path, \"rest_1\")\n",
        "    elif os.path.exists(os.path.join(path, \"rest_2\")):\n",
        "      path = os.path.join(path, \"rest_2\")\n",
        "    else:\n",
        "      path = os.path.join(path, \"rest_3\")\n",
        "    nii_file_path = os.path.join(path, \"rest.nii.gz\")\n",
        "    # Extract the 2D slices from the .nii.gz fMRI file and save them as PNG images.\n",
        "    print(cnt)\n",
        "    cnt+=1\n",
        "    extract_2d_slices(nii_file_path, output_dir, j)\n",
        "\n",
        "\n",
        "#(64, 64, 29, 200) -> Pitt -> 30 asd 27 tc -> 10 each\n",
        "#(64, 64, 40, 240) -> USM -> 58 asd 43 tc -> 11 each\n",
        "#(64, 64, 34, 200) -> Yale -> 28 asd 28 tc -> 10 each\n",
        "#(64, 64, 40, 300) -> UM_1 -> 55 asd 55 tc -> 10 each\n",
        "#(64, 64, 42, 180) -> SDSU -> 14 asd 22 tc -> 10 each\n",
        "#(80, 80, 38, 200) -> SBL -> 15 asd 15 tc -> 10 each\n",
        "#(64, 64, 29, 180) -> Stanford -> 20 asd 20 tc -> 10 each\n",
        "#(64, 64, 36, 82) -> OHSU -> 13 asd 15 tc -> 10 each\n",
        "#(64, 64, 34, 150) -> Caltech -> 19 asd 19 tc -> 10 each\n",
        "#(64, 64, 28, 240) (64, 64, 21, 320) -> CMU -> 14 asd 13 tc -> 10 each\n",
        "#(128, 128, 34) -> UCLA_1 -> 49 asd 33 tc -> 10 each\n",
        "#(64, 64, 40, 300) -> UM_2 -> 13 asd 22 tc -> 10 each\n",
        "#(96, 96, 47, 128) -> KKI -> 22 asd 33 tc -> 10 each\n",
        "#(64, 64, 29, 210) -> Olin -> 20 asd 16 tc -> 10 each\n",
        "#(80, 80, 38, 150) -> Trinity -> 24 asd 25 tc -> 10 each\n",
        "#(64, 64, 32, 250) -> Leuven_1 -> 14 asd 15 tc -> 10 each\n",
        "#(64, 64, 32, 250) -> Leuven_2 -> 15 asd 20 tc -> 10 each\n",
        "#(64, 64, 28, 120) -> MaxMun -> 24 asd 33 tc -> 10 each\n",
        "#(64, 80, 33, 180) -> NYU_a -> 37 asd 0 tc -> 10 each\n"
      ]
    },
    {
      "cell_type": "markdown",
      "source": [],
      "metadata": {
        "id": "0I31R_GNhEXb"
      }
    },
    {
      "cell_type": "markdown",
      "source": [],
      "metadata": {
        "id": "dficwEnThEUN"
      }
    },
    {
      "cell_type": "markdown",
      "source": [],
      "metadata": {
        "id": "3i8UCBMNhEQS"
      }
    },
    {
      "cell_type": "code",
      "source": [
        "a = [int(x) for x in range(50142, 50157) if x != 50151 and x != 50154]\n",
        "print(a)"
      ],
      "metadata": {
        "id": "u72wOFkAhDiZ",
        "colab": {
          "base_uri": "https://localhost:8080/"
        },
        "outputId": "0f2d81c5-d24a-4bc3-a02f-dd8574706458"
      },
      "execution_count": null,
      "outputs": [
        {
          "output_type": "stream",
          "name": "stdout",
          "text": [
            "[50142, 50143, 50144, 50145, 50146, 50147, 50148, 50149, 50150, 50152, 50153, 50155, 50156]\n"
          ]
        }
      ]
    },
    {
      "cell_type": "code",
      "source": [
        "[51332, 51333, 51334, 51335, 51336, 51338, 51339, 51340, 51341, 51342, 51343, 51344, 51345, 51346, 51347, 51356, 51357, 51358, 51359, 51360, 51361, 51362, 51363, 51364, 51365, 51366, 51367, 51368, 51369, 51370, 51371, 51372, 51373]"
      ],
      "metadata": {
        "id": "KOz_JfC1jBF2"
      },
      "execution_count": null,
      "outputs": []
    },
    {
      "cell_type": "code",
      "source": [
        "tc = [51108, 51109, 51110, 51111, 51112, 51113, 51114, 51115, 51116, 51117, 51118, 51119, 51120, 51121, 51122, 51123, 51124, 51125, 51126, 51127, 51128, 51129, 51130, 51131, 51146, 51147, 51148, 51149, 51150, 51151, 51152, 51153, 51154, 51155, 51156, 51159]\n",
        "asd = [51030, 51032, 51033, 51034, 51035]\n",
        "print(len(asd), len(tc))"
      ],
      "metadata": {
        "colab": {
          "base_uri": "https://localhost:8080/"
        },
        "id": "NZ9vm_f1hDe0",
        "outputId": "a7228c74-3b83-4f8e-905e-85da43479c6d"
      },
      "execution_count": null,
      "outputs": [
        {
          "output_type": "stream",
          "name": "stdout",
          "text": [
            "5 36\n"
          ]
        }
      ]
    },
    {
      "cell_type": "markdown",
      "source": [],
      "metadata": {
        "id": "ETgrfu9_kO0Q"
      }
    },
    {
      "cell_type": "code",
      "source": [
        "test_asd = [x for x in os.listdir('/content/drive/MyDrive/ABIDE-I dataset/A_Prepared_Data/test/ASD/')]\n",
        "test_tc = [x for x in os.listdir('/content/drive/MyDrive/ABIDE-I dataset/A_Prepared_Data/test/TC/')]\n",
        "train_asd = [x for x in os.listdir('/content/drive/MyDrive/ABIDE-I dataset/A_Prepared_Data/train/ASD/')]\n",
        "train_tc = [x for x in os.listdir('/content/drive/MyDrive/ABIDE-I dataset/A_Prepared_Data/train/TC/')]\n",
        "validate_asd = [x for x in os.listdir('/content/drive/MyDrive/ABIDE-I dataset/A_Prepared_Data/validate/ASD/')]\n",
        "validate_tc = [x for x in os.listdir('/content/drive/MyDrive/ABIDE-I dataset/A_Prepared_Data/validate/TC/')]\n",
        "# a.sort()\n",
        "print(\"test_asd:\", len(test_asd), \"test_tc:\", len(test_tc), \"train_asd:\", len(train_asd), \"train_tc:\", len(train_tc), \"validate_asd:\", len(validate_asd), \"validate_tc:\", len(validate_tc))\n",
        "print(len(test_asd)+len(test_tc))"
      ],
      "metadata": {
        "colab": {
          "base_uri": "https://localhost:8080/"
        },
        "id": "sY_TZoryFIvl",
        "outputId": "f428c959-7cc3-42d9-f337-3b01f14e6e92"
      },
      "execution_count": null,
      "outputs": [
        {
          "output_type": "stream",
          "name": "stdout",
          "text": [
            "test_asd: 1340 test_tc: 1110 train_asd: 3498 train_tc: 3678 validate_asd: 540 validate_tc: 920\n",
            "2450\n"
          ]
        }
      ]
    },
    {
      "cell_type": "code",
      "source": [
        "import pandas as pd\n",
        "\n",
        "train_dir = \"/content/drive/MyDrive/ABIDE-I dataset/A_Prepared_Data/train\"\n",
        "\n",
        "train = []\n",
        "label = []\n",
        "\n",
        "# os.listdir returns the list of files in the folder, in this case image class names\n",
        "for i in os.listdir(train_dir):\n",
        "  train_class = os.listdir(os.path.join(train_dir, i))\n",
        "  for j in train_class:\n",
        "    img = os.path.join('train', i, j)\n",
        "    train.append(img)\n",
        "    label.append(i)\n",
        "\n",
        "print('Number of train images : {} \\n'.format(len(train)))"
      ],
      "metadata": {
        "id": "Zfl2y9A7hDb-",
        "colab": {
          "base_uri": "https://localhost:8080/"
        },
        "outputId": "d1cc0a3b-12e8-49e2-f5b1-4b00f40a5e15"
      },
      "execution_count": null,
      "outputs": [
        {
          "output_type": "stream",
          "name": "stdout",
          "text": [
            "Number of train images : 7176 \n",
            "\n"
          ]
        }
      ]
    },
    {
      "cell_type": "code",
      "source": [
        "  \"\"\"\n",
        "  for timepoint in range(fmri_data.shape[-1]):\n",
        "    # Extract a 2D slice at the desired slice index (e.g., 30 in the z-axis)\n",
        "    slice_data = fmri_data[:, :, 30, timepoint]\n",
        "\n",
        "    # Create a Matplotlib figure and save the slice as a PNG\n",
        "    plt.figure(figsize=(6, 6))  # Adjust the figure size as needed\n",
        "    plt.imshow(slice_data, cmap='gray')\n",
        "    plt.axis('off')  # Turn off axis labels\n",
        "    plt.savefig(f'slice_{timepoint:03d}.png', bbox_inches='tight', pad_inches=0)\n",
        "    plt.close()  # Close the figure to free up memory\n",
        "  \"\"\""
      ],
      "metadata": {
        "id": "bhbmD16HhDFl"
      },
      "execution_count": null,
      "outputs": []
    },
    {
      "cell_type": "code",
      "source": [
        "img1 = nib.load(\"/content/drive/MyDrive/ABIDE-I dataset/NYU_e/0051154/session_1/rest_1/rest.nii.gz\")\n",
        "\n",
        "  # Get the raw data of the .nii.gz fMRI file.\n",
        "data = img1.get_fdata()\n",
        "print(img1.shape)\n",
        "\n",
        "# for i in range(10, 20):\n",
        "#   slice_data = data[:, :, i, 60]\n",
        "#   plt.figure()\n",
        "#   plt.imshow(slice_data, cmap='gray')\n",
        "#   plt.axis('off')  # Turn off axis labels"
      ],
      "metadata": {
        "id": "PjLD-iP9VYPP",
        "colab": {
          "base_uri": "https://localhost:8080/"
        },
        "outputId": "db2d5c26-1bd1-4d72-b664-8c288f53bce7"
      },
      "execution_count": null,
      "outputs": [
        {
          "output_type": "stream",
          "name": "stdout",
          "text": [
            "(64, 80, 33, 180)\n"
          ]
        }
      ]
    },
    {
      "cell_type": "code",
      "source": [
        "from scipy.ndimage import zoom"
      ],
      "metadata": {
        "id": "n-5ukaVT2vSM"
      },
      "execution_count": null,
      "outputs": []
    },
    {
      "cell_type": "code",
      "source": [
        "img1 = nib.load(\"/content/drive/MyDrive/ABIDE-I dataset/NYU_e/0051154/session_1/rest_1/rest.nii.gz\")\n",
        "\n",
        "  # Get the raw data of the .nii.gz fMRI file.\n",
        "data = img1.get_fdata()\n",
        "print(img1.shape)\n",
        "\n",
        "# new_size = (64, 64)\n",
        "\n",
        "for i in range(10, 11):\n",
        "  slice_data = data[:, :, i, 60]\n",
        "  # resized_img = zoom(slice_data, zoom=(new_size[0] / slice_data.shape[0], new_size[1] / slice_data.shape[1]))\n",
        "  plt.figure()\n",
        "  plt.imshow(slice_data, cmap='gray')\n",
        "  # plt.imsave(\"check.png\", resized_img, cmap='gray')\n",
        "  plt.axis('off')  # Turn off axis labels"
      ],
      "metadata": {
        "colab": {
          "base_uri": "https://localhost:8080/",
          "height": 423
        },
        "id": "mLuNK5BB1kud",
        "outputId": "599cd893-9592-4a48-c3e3-e135df06e12c"
      },
      "execution_count": null,
      "outputs": [
        {
          "output_type": "stream",
          "name": "stdout",
          "text": [
            "(64, 80, 33, 180)\n"
          ]
        },
        {
          "output_type": "display_data",
          "data": {
            "text/plain": [
              "<Figure size 640x480 with 1 Axes>"
            ],
            "image/png": "[encoded data removed]"
          },
          "metadata": {}
        }
      ]
    },
    {
      "cell_type": "code",
      "source": [
        "import os\n",
        "import cv2\n",
        "import numpy as np\n",
        "from google.colab.patches import cv2_imshow\n",
        "\n",
        "# Directory containing PNG images\n",
        "image_dir = '/content/drive/MyDrive/ABIDE-I dataset/A_Prepared_Data/train/TC'\n",
        "\n",
        "# Initialize an empty array to store image sizes\n",
        "image_sizes = []\n",
        "\n",
        "# Loop through the files in the directory\n",
        "for filename in os.listdir(image_dir):\n",
        "    if filename.endswith(\".png\"):\n",
        "        # Construct the full file path\n",
        "        file_path = os.path.join(image_dir, filename)\n",
        "\n",
        "        # Load the image using OpenCV\n",
        "        image = cv2.imread(file_path)\n",
        "        # cv2_imshow(image)\n",
        "        print(image.shape)\n",
        "\n",
        "\"\"\"\n",
        "        # Check if the image was loaded successfully\n",
        "        if image is not None:\n",
        "            # Get the image size (width x height) as a tuple\n",
        "            image_size = (image.shape[1], image.shape[0], filename)\n",
        "\n",
        "            # Append the size to the image_sizes array\n",
        "            image_sizes.append(image_size)\n",
        "        else:\n",
        "            print(f\"Error loading image: {file_path}\")\n",
        "\n",
        "# Convert the list of image sizes to a NumPy array\n",
        "image_sizes_array = np.array(image_sizes)\n",
        "\n",
        "# Print the image sizes as an array\n",
        "# print(image_sizes_array)\n",
        "\"\"\""
      ],
      "metadata": {
        "id": "VIfM5cRuTPh8"
      },
      "execution_count": null,
      "outputs": []
    },
    {
      "cell_type": "code",
      "source": [
        "import PIL.Image\n",
        "\n",
        "# Load the image\n",
        "img = PIL.Image.open('/content/slice0050002_011.png')\n",
        "\n",
        "# Get the image's EXIF metadata\n",
        "exif = img.getexif()\n",
        "print(exif)\n",
        "\n",
        "# Check the image's color space\n",
        "if exif and 'ColorSpace' in exif:\n",
        "    color_space = exif['ColorSpace']\n",
        "    if color_space == 1:\n",
        "        print('The image is grayscale.')\n",
        "    elif color_space == 3:\n",
        "        print('The image is RGB.')\n",
        "    elif color_space == 4:\n",
        "        print('The image is RGBA.')\n",
        "    else:\n",
        "        print('The image color space is unknown.')\n",
        "else:\n",
        "    print('The image does not have any EXIF metadata.')"
      ],
      "metadata": {
        "colab": {
          "base_uri": "https://localhost:8080/"
        },
        "id": "BBMzMxfWecO_",
        "outputId": "0455e4bb-67ef-44be-d03f-4ea6d85e20a5"
      },
      "execution_count": null,
      "outputs": [
        {
          "output_type": "stream",
          "name": "stdout",
          "text": [
            "{}\n",
            "The image does not have any EXIF metadata.\n"
          ]
        }
      ]
    }
  ],
  "metadata": {
    "colab": {
      "provenance": [],
      "include_colab_link": true
    },
    "kernelspec": {
      "display_name": "Python 3",
      "name": "python3"
    },
    "language_info": {
      "name": "python"
    }
  },
  "nbformat": 4,
  "nbformat_minor": 0
}