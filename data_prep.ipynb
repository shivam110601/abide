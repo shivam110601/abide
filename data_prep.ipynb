{
  "cells": [
    {
      "cell_type": "code",
      "execution_count": 28,
      "metadata": {
        "id": "6mYgZfPN15H4"
      },
      "outputs": [],
      "source": [
        "import nibabel as nib\n",
        "import numpy as np\n",
        "from PIL import Image\n",
        "import matplotlib.pyplot as plt\n",
        "import os\n",
        "\n",
        "# Display array values to 4 digits of precision\n",
        "np.set_printoptions(precision=4, suppress=True)\n",
        "\n",
        "def extract_2d_slices(nii_file_path, output_dir, j):\n",
        "  # Load the .nii.gz fMRI file.\n",
        "  img = nib.load(nii_file_path)\n",
        "\n",
        "  # Get the raw data of the .nii.gz fMRI file.\n",
        "  data = img.get_fdata()\n",
        "\n",
        "  # Set 'gray' as the default colormap\n",
        "  # plt.rcParams['image.cmap'] = 'gray'\n",
        "\n",
        "  for i in range(11, 21):\n",
        "    slice_data = data[:, :, i]\n",
        "    plt.figure()\n",
        "    plt.imshow(slice_data, cmap='gray')\n",
        "    plt.axis('off')  # Turn off axis labels\n",
        "\n",
        "    # Save the PNG image (you can customize the filename as needed)\n",
        "    png_filename = os.path.join(output_dir, f'slice{j:07d}_{i:03d}.png')\n",
        "    plt.savefig(png_filename, bbox_inches='tight', pad_inches=0)\n",
        "    plt.close()\n",
        "\n",
        "  # print(img.shape)\n",
        "  # print(img.header)\n",
        "\n",
        "\n",
        "\n",
        "if __name__ == \"__main__\":\n",
        "  # Get the output directory.\n",
        "  output_dir = \"/content/drive/MyDrive/ABIDE-I dataset/UCLA_2_Prep_Data/train/tdc\"\n",
        "\n",
        "\n",
        "  for j in range(51303, 51318):\n",
        "    nii_file_path = \"/content/drive/MyDrive/ABIDE-I dataset/UCLA_2/\"+f\"{j:07d}\"+\"/session_1/hires_1/hires.nii.gz\"\n",
        "    # Extract the 2D slices from the .nii.gz fMRI file and save them as PNG images.\n",
        "    extract_2d_slices(nii_file_path, output_dir, j)\n",
        "\n",
        "\n",
        "\n",
        "# (128, 128, 34) is the size of a fMRI image\n",
        "# 10 slices are extracted from each fMRI image with size (369, 369)\n",
        "\n",
        "# from the total ABIDE-I, dataset from \"University of California, Los Angeles: Sample 2\" is used where\n",
        "# Total: 27 (9.8-16.5 years)\n",
        "# Autism Spectrum Disorders (ASD): 13 (10.0-16.5 years) (13 Autistic Disorder)\n",
        "# Non ASD: 14 (9.8-13.6 years)"
      ]
    }
  ],
  "metadata": {
    "colab": {
      "provenance": []
    },
    "kernelspec": {
      "display_name": "Python 3",
      "name": "python3"
    },
    "language_info": {
      "name": "python"
    }
  },
  "nbformat": 4,
  "nbformat_minor": 0
}
