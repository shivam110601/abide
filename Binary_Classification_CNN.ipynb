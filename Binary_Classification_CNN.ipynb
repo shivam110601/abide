{
  "cells": [
    {
      "cell_type": "code",
      "source": [
        "from google.colab import drive\n",
        "drive.mount('/content/drive')"
      ],
      "metadata": {
        "colab": {
          "base_uri": "https://localhost:8080/"
        },
        "id": "yI-a7zAsWTjo",
        "outputId": "45908c18-1ae3-48bc-a3fc-2ab12886bee0"
      },
      "execution_count": 1,
      "outputs": [
        {
          "output_type": "stream",
          "name": "stdout",
          "text": [
            "Mounted at /content/drive\n"
          ]
        }
      ]
    },
    {
      "cell_type": "code",
      "execution_count": 16,
      "metadata": {
        "colab": {
          "base_uri": "https://localhost:8080/"
        },
        "id": "lIMMF-qFOcnx",
        "outputId": "09830571-4c12-4b49-8b8e-b10d041d9e68"
      },
      "outputs": [
        {
          "output_type": "stream",
          "name": "stdout",
          "text": [
            "Found 160 images belonging to 2 classes.\n",
            "Found 50 images belonging to 2 classes.\n",
            "Found 60 images belonging to 2 classes.\n"
          ]
        }
      ],
      "source": [
        "# Part 1 - Getting the data and defining parameters\n",
        "\n",
        "from keras.preprocessing.image import ImageDataGenerator\n",
        "\n",
        "train_datagen = ImageDataGenerator(rescale = 1./255,\n",
        "                                   shear_range = 0.2,\n",
        "                                   horizontal_flip=True,\n",
        "                                   vertical_flip=True)\n",
        "\n",
        "\n",
        "\n",
        "training_set = train_datagen.flow_from_directory(r'/content/drive/MyDrive/ABIDE-I dataset/UCLA_2_Prep_Data/train',\n",
        "                                                 target_size = (128, 128),\n",
        "                                                 class_mode = 'binary',\n",
        "                                                 color_mode = 'grayscale'\n",
        "                                                 )\n",
        "validation_datagen = ImageDataGenerator(rescale = 1./255)\n",
        "validation_set = train_datagen.flow_from_directory(r'/content/drive/MyDrive/ABIDE-I dataset/UCLA_2_Prep_Data/validate',\n",
        "                                                 target_size = (128, 128),\n",
        "                                                 class_mode = 'binary',\n",
        "                                                 color_mode = 'grayscale'\n",
        "                                                 )\n",
        "test_datagen = ImageDataGenerator(rescale = 1./255)\n",
        "test_set = test_datagen.flow_from_directory(r'/content/drive/MyDrive/ABIDE-I dataset/UCLA_2_Prep_Data/test',\n",
        "                                            target_size = (128, 128),\n",
        "                                            class_mode = 'binary',\n",
        "                                            color_mode = 'grayscale')\n",
        "\n",
        "\n",
        "\n",
        "\n"
      ]
    },
    {
      "cell_type": "code",
      "execution_count": 17,
      "metadata": {
        "colab": {
          "base_uri": "https://localhost:8080/"
        },
        "id": "6cyB2th3Ocn3",
        "outputId": "f4308353-9de1-4584-f1da-29aa46536d30"
      },
      "outputs": [
        {
          "output_type": "stream",
          "name": "stdout",
          "text": [
            "Model: \"sequential_4\"\n",
            "_________________________________________________________________\n",
            " Layer (type)                Output Shape              Param #   \n",
            "=================================================================\n",
            " conv2d_13 (Conv2D)          (None, 126, 126, 32)      320       \n",
            "                                                                 \n",
            " max_pooling2d_12 (MaxPooli  (None, 63, 63, 32)        0         \n",
            " ng2D)                                                           \n",
            "                                                                 \n",
            " conv2d_14 (Conv2D)          (None, 61, 61, 64)        18496     \n",
            "                                                                 \n",
            " max_pooling2d_13 (MaxPooli  (None, 30, 30, 64)        0         \n",
            " ng2D)                                                           \n",
            "                                                                 \n",
            " conv2d_15 (Conv2D)          (None, 28, 28, 128)       73856     \n",
            "                                                                 \n",
            " max_pooling2d_14 (MaxPooli  (None, 14, 14, 128)       0         \n",
            " ng2D)                                                           \n",
            "                                                                 \n",
            " conv2d_16 (Conv2D)          (None, 12, 12, 128)       147584    \n",
            "                                                                 \n",
            " max_pooling2d_15 (MaxPooli  (None, 6, 6, 128)         0         \n",
            " ng2D)                                                           \n",
            "                                                                 \n",
            " flatten_3 (Flatten)         (None, 4608)              0         \n",
            "                                                                 \n",
            " dense_9 (Dense)             (None, 128)               589952    \n",
            "                                                                 \n",
            " dense_10 (Dense)            (None, 64)                8256      \n",
            "                                                                 \n",
            " dense_11 (Dense)            (None, 1)                 65        \n",
            "                                                                 \n",
            "=================================================================\n",
            "Total params: 838529 (3.20 MB)\n",
            "Trainable params: 838529 (3.20 MB)\n",
            "Non-trainable params: 0 (0.00 Byte)\n",
            "_________________________________________________________________\n"
          ]
        }
      ],
      "source": [
        "# Part 2 - Creating the CNN model\n",
        "\n",
        "# Importing the Keras libraries and packages\n",
        "from keras.models import Sequential\n",
        "from keras.layers import Conv2D\n",
        "from keras.layers import MaxPooling2D\n",
        "from keras.layers import Flatten\n",
        "from keras.layers import Dense\n",
        "\n",
        "# Initialising the CNN\n",
        "classifier = Sequential()\n",
        "\n",
        "# input and first convolution\n",
        "classifier.add(Conv2D(32, (3, 3), input_shape = (128, 128, 1), activation = 'relu'))\n",
        "classifier.add(MaxPooling2D(pool_size = (2, 2)))\n",
        "\n",
        "# Adding a second convolutional layer\n",
        "classifier.add(Conv2D(64, (3, 3), activation = 'relu'))\n",
        "classifier.add(MaxPooling2D(pool_size = (2, 2)))\n",
        "\n",
        "# Adding a third convolutional layer\n",
        "classifier.add(Conv2D(128, (3, 3), activation = 'relu'))\n",
        "classifier.add(MaxPooling2D(pool_size = (2, 2)))\n",
        "\n",
        "# Adding a fourth convolutional layer\n",
        "classifier.add(Conv2D(128, (3, 3), activation = 'relu'))\n",
        "classifier.add(MaxPooling2D(pool_size = (2, 2)))\n",
        "\n",
        "# Step 3 - Flattening\n",
        "classifier.add(Flatten())\n",
        "\n",
        "# Step 4 - Full connection\n",
        "classifier.add(Dense(units = 128, activation = 'relu'))\n",
        "classifier.add(Dense(units = 64, activation = 'relu'))\n",
        "classifier.add(Dense(units = 1, activation = 'sigmoid'))\n",
        "\n",
        "# Compiling the CNN\n",
        "classifier.compile(optimizer = 'adam', loss = 'binary_crossentropy', metrics = ['accuracy'])\n",
        "\n",
        "classifier.summary()"
      ]
    },
    {
      "cell_type": "code",
      "execution_count": 18,
      "metadata": {
        "colab": {
          "base_uri": "https://localhost:8080/"
        },
        "id": "EUEgViVVOcn5",
        "outputId": "98d66657-441a-4ef4-bc64-4ca36c6a9adb"
      },
      "outputs": [
        {
          "output_type": "stream",
          "name": "stderr",
          "text": [
            "<ipython-input-18-13dae4e1734f>:1: UserWarning: `Model.fit_generator` is deprecated and will be removed in a future version. Please use `Model.fit`, which supports generators.\n",
            "  classifier.fit_generator(training_set,\n"
          ]
        },
        {
          "output_type": "stream",
          "name": "stdout",
          "text": [
            "Epoch 1/10\n",
            "5/5 [==============================] - 9s 2s/step - loss: 0.7054 - accuracy: 0.4938 - val_loss: 0.6923 - val_accuracy: 0.6000\n",
            "Epoch 2/10\n",
            "5/5 [==============================] - 6s 1s/step - loss: 0.6940 - accuracy: 0.4812 - val_loss: 0.6956 - val_accuracy: 0.4000\n",
            "Epoch 3/10\n",
            "5/5 [==============================] - 8s 2s/step - loss: 0.6936 - accuracy: 0.5000 - val_loss: 0.6957 - val_accuracy: 0.4000\n",
            "Epoch 4/10\n",
            "5/5 [==============================] - 7s 1s/step - loss: 0.6930 - accuracy: 0.5000 - val_loss: 0.6950 - val_accuracy: 0.4000\n",
            "Epoch 5/10\n",
            "5/5 [==============================] - 6s 1s/step - loss: 0.6931 - accuracy: 0.5063 - val_loss: 0.6933 - val_accuracy: 0.3400\n",
            "Epoch 6/10\n",
            "5/5 [==============================] - 9s 2s/step - loss: 0.6930 - accuracy: 0.5375 - val_loss: 0.6945 - val_accuracy: 0.4000\n",
            "Epoch 7/10\n",
            "5/5 [==============================] - 6s 1s/step - loss: 0.6928 - accuracy: 0.5000 - val_loss: 0.6944 - val_accuracy: 0.4000\n",
            "Epoch 8/10\n",
            "5/5 [==============================] - 8s 1s/step - loss: 0.6926 - accuracy: 0.5000 - val_loss: 0.6928 - val_accuracy: 0.5600\n",
            "Epoch 9/10\n",
            "5/5 [==============================] - 6s 1s/step - loss: 0.6920 - accuracy: 0.5625 - val_loss: 0.6929 - val_accuracy: 0.6200\n",
            "Epoch 10/10\n",
            "5/5 [==============================] - 9s 2s/step - loss: 0.6908 - accuracy: 0.5500 - val_loss: 0.6968 - val_accuracy: 0.3800\n"
          ]
        },
        {
          "output_type": "execute_result",
          "data": {
            "text/plain": [
              "<keras.src.callbacks.History at 0x7ae1e1fd6380>"
            ]
          },
          "metadata": {},
          "execution_count": 18
        }
      ],
      "source": [
        "classifier.fit_generator(training_set,\n",
        "                         steps_per_epoch=len(training_set),\n",
        "                         epochs=10,  # Specify the number of epochs\n",
        "                         validation_data=validation_set,\n",
        "                         validation_steps=len(validation_set))"
      ]
    },
    {
      "cell_type": "markdown",
      "metadata": {
        "id": "nlNyCLyHOcn6"
      },
      "source": [
        "___"
      ]
    },
    {
      "cell_type": "code",
      "source": [
        "import os\n",
        "import numpy as np\n",
        "from sklearn.metrics import accuracy_score, confusion_matrix, roc_curve, auc\n",
        "import matplotlib.pyplot as plt\n",
        "import seaborn as sns\n",
        "\n",
        "# Assuming you already have your model 'classifier' trained\n",
        "\n",
        "# Get the list of class names from the data generator\n",
        "class_names = list(training_set.class_indices.keys())\n",
        "\n",
        "# Make predictions on the test data\n",
        "predictions = classifier.predict(test_set)\n",
        "\n",
        "# 'predictions' will contain the predicted probabilities for each image\n",
        "# For binary classification, you can threshold the probabilities to get class predictions (0 or 1)\n",
        "predicted_classes = (predictions > 0.5).astype(int)\n",
        "\n",
        "# Get the true class labels for the test data\n",
        "true_classes = test_set.classes\n",
        "\n",
        "# Calculate test accuracy\n",
        "test_accuracy = accuracy_score(true_classes, predicted_classes)\n",
        "\n",
        "# Print and return the test accuracy\n",
        "print(f\"Test Accuracy: {test_accuracy * 100:.2f}%\")\n",
        "\n",
        "# Calculate the ROC curve\n",
        "fpr, tpr, _ = roc_curve(true_classes, predictions)\n",
        "roc_auc = auc(fpr, tpr)\n",
        "\n",
        "# Plot the ROC curve\n",
        "plt.figure()\n",
        "plt.plot(fpr, tpr, color='darkorange', lw=2, label='ROC curve (area = {:.2f})'.format(roc_auc))\n",
        "plt.plot([0, 1], [0, 1], color='navy', lw=2, linestyle='--')\n",
        "plt.xlim([0.0, 1.0])\n",
        "plt.ylim([0.0, 1.05])\n",
        "plt.xlabel('False Positive Rate')\n",
        "plt.ylabel('True Positive Rate')\n",
        "plt.title('Receiver Operating Characteristic')\n",
        "plt.legend(loc='lower right')\n",
        "\n",
        "# Calculate the confusion matrix\n",
        "conf_matrix = confusion_matrix(true_classes, predicted_classes)\n",
        "\n",
        "# Plot the confusion matrix as a heatmap\n",
        "plt.figure(figsize=(8, 6))\n",
        "sns.heatmap(conf_matrix, annot=True, fmt='d', cmap='Blues', xticklabels=class_names, yticklabels=class_names)\n",
        "plt.xlabel('Predicted')\n",
        "plt.ylabel('True')\n",
        "plt.title('Confusion Matrix')\n",
        "plt.show()\n",
        "\n",
        "# Print and return the confusion matrix\n",
        "print(\"Confusion Matrix:\")\n",
        "print(conf_matrix)\n",
        "\n",
        "# Calculate and print validation accuracy if you have a validation set\n",
        "validation_loss, validation_accuracy = classifier.evaluate_generator(validation_set, steps=len(validation_set))\n",
        "print(f\"Validation Accuracy: {validation_accuracy * 100:.2f}%\")\n",
        "\n",
        "\n"
      ],
      "metadata": {
        "colab": {
          "base_uri": "https://localhost:8080/",
          "height": 1000
        },
        "id": "4Yvz5EgToWnw",
        "outputId": "17449590-b8f6-445b-feed-b437203b4831"
      },
      "execution_count": 25,
      "outputs": [
        {
          "output_type": "stream",
          "name": "stdout",
          "text": [
            "2/2 [==============================] - 1s 403ms/step\n",
            "Test Accuracy: 56.67%\n"
          ]
        },
        {
          "output_type": "display_data",
          "data": {
            "text/plain": [
              "<Figure size 640x480 with 1 Axes>"
            ],
            "image/png": "[encoded data removed]"
          },
          "metadata": {}
        },
        {
          "output_type": "display_data",
          "data": {
            "text/plain": [
              "<Figure size 800x600 with 2 Axes>"
            ],
            "image/png": "[encoded data removed]"
          },
          "metadata": {}
        },
        {
          "output_type": "stream",
          "name": "stdout",
          "text": [
            "Confusion Matrix:\n",
            "[[29  1]\n",
            " [25  5]]\n"
          ]
        },
        {
          "output_type": "stream",
          "name": "stderr",
          "text": [
            "<ipython-input-25-4c007c08d04b>:59: UserWarning: `Model.evaluate_generator` is deprecated and will be removed in a future version. Please use `Model.evaluate`, which supports generators.\n",
            "  validation_loss, validation_accuracy = classifier.evaluate_generator(validation_set, steps=len(validation_set))\n"
          ]
        },
        {
          "output_type": "stream",
          "name": "stdout",
          "text": [
            "Validation Accuracy: 38.00%\n"
          ]
        }
      ]
    },
    {
      "cell_type": "code",
      "execution_count": null,
      "metadata": {
        "id": "Ez-jFgXUOcn7"
      },
      "outputs": [],
      "source": [
        "# # Assuming you already have your model 'classifier' trained\n",
        "\n",
        "# # Make predictions on a single batch of test data\n",
        "# predictions = classifier.predict(test_set)\n",
        "\n",
        "# # 'predictions' will contain the predicted probabilities for each image\n",
        "# # For binary classification, you can threshold the probabilities to get class predictions (0 or 1)\n",
        "# predicted_classes = (predictions > 0.5)\n",
        "\n",
        "# # Print the predicted classes for the batch\n",
        "# print(predicted_classes)\n",
        "\n",
        "\n",
        "import os\n",
        "\n",
        "# Assuming you already have your model 'classifier' trained\n",
        "\n",
        "# Get the list of class names from the data generator\n",
        "class_names = list(training_set.class_indices.keys())\n",
        "\n",
        "# Make predictions on a single batch of test data\n",
        "predictions = classifier.predict(test_set)\n",
        "\n",
        "# 'predictions' will contain the predicted probabilities for each image\n",
        "# For binary classification, you can threshold the probabilities to get class predictions (0 or 1)\n",
        "predicted_classes = (predictions > 0.5).astype(int)\n",
        "\n",
        "# Get the list of file names in the batch\n",
        "file_names = test_set.filenames\n",
        "\n",
        "# Iterate through the predictions and file names\n",
        "for i in range(len(predicted_classes)):\n",
        "    file_name = os.path.basename(file_names[i])\n",
        "    class_name = class_names[predicted_classes[i][0]]\n",
        "\n",
        "    print(f\"File: {file_name}, Predicted Class: {class_name}\")\n",
        "\n"
      ]
    },
    {
      "cell_type": "code",
      "source": [
        "# Assuming you already have your model 'classifier' trained\n",
        "validate_loss, validate_accuracy = classifier.evaluate(validation_set, steps=len(validation_set))\n",
        "\n",
        "# Print and return the accuracy\n",
        "print(f\"Validate Accuracy: {validate_accuracy * 100:.2f}%\")\n",
        "\n",
        "# Calculate accuracy on the test data\n",
        "test_loss, test_accuracy = classifier.evaluate(test_set, steps=len(test_set))\n",
        "\n",
        "# Print and return the accuracy\n",
        "print(f\"Test Accuracy: {test_accuracy * 100:.2f}%\")\n",
        "\n",
        "\n"
      ],
      "metadata": {
        "colab": {
          "base_uri": "https://localhost:8080/"
        },
        "id": "Zmap5gidmcEX",
        "outputId": "67997915-00e8-43ef-f9a5-d00e536c7145"
      },
      "execution_count": 23,
      "outputs": [
        {
          "output_type": "stream",
          "name": "stdout",
          "text": [
            "2/2 [==============================] - 1s 122ms/step - loss: 0.6961 - accuracy: 0.3800\n",
            "Validate Accuracy: 38.00%\n",
            "2/2 [==============================] - 1s 280ms/step - loss: 0.6947 - accuracy: 0.4000\n",
            "Test Accuracy: 40.00%\n"
          ]
        }
      ]
    }
  ],
  "metadata": {
    "kernelspec": {
      "display_name": "Python 3",
      "language": "python",
      "name": "python3"
    },
    "language_info": {
      "codemirror_mode": {
        "name": "ipython",
        "version": 3
      },
      "file_extension": ".py",
      "mimetype": "text/x-python",
      "name": "python",
      "nbconvert_exporter": "python",
      "pygments_lexer": "ipython3",
      "version": "3.7.3"
    },
    "colab": {
      "provenance": []
    }
  },
  "nbformat": 4,
  "nbformat_minor": 0
}