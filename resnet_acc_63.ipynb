{
  "cells": [
    {
      "cell_type": "code",
      "execution_count": 1,
      "metadata": {
        "colab": {
          "base_uri": "https://localhost:8080/"
        },
        "id": "4Ts177nJVSca",
        "outputId": "b9bbfdf7-0f2c-4168-cf0d-02b583895755"
      },
      "outputs": [
        {
          "output_type": "stream",
          "name": "stdout",
          "text": [
            "Mounted at /content/drive\n"
          ]
        }
      ],
      "source": [
        "from google.colab import drive\n",
        "drive.mount('/content/drive')"
      ],
      "id": "4Ts177nJVSca"
    },
    {
      "cell_type": "code",
      "execution_count": 2,
      "metadata": {
        "id": "super-artist",
        "scrolled": true
      },
      "outputs": [],
      "source": [
        "import matplotlib.pyplot as plt\n",
        "import numpy as np\n",
        "import pandas as pd\n",
        "import seaborn as sns\n",
        "import cv2\n",
        "import tensorflow as tf\n",
        "from tensorflow.keras.preprocessing.image import ImageDataGenerator\n",
        "from tqdm import tqdm\n",
        "import os\n",
        "from sklearn.utils import shuffle\n",
        "from sklearn.model_selection import train_test_split\n",
        "from tensorflow.keras.applications import ResNet50\n",
        "from tensorflow.keras.callbacks import EarlyStopping, ReduceLROnPlateau, TensorBoard, ModelCheckpoint\n",
        "from sklearn.metrics import classification_report,confusion_matrix\n",
        "import ipywidgets as widgets\n",
        "import io\n",
        "from PIL import Image\n",
        "from IPython.display import display,clear_output\n",
        "from warnings import filterwarnings"
      ],
      "id": "super-artist"
    },
    {
      "cell_type": "markdown",
      "metadata": {
        "id": "UXP8L0IFfpz7"
      },
      "source": [
        "Applying **Data Augmentation** on the dataset"
      ],
      "id": "UXP8L0IFfpz7"
    },
    {
      "cell_type": "code",
      "execution_count": 12,
      "metadata": {
        "colab": {
          "base_uri": "https://localhost:8080/"
        },
        "id": "MF8MkSRlf_Ww",
        "outputId": "bdae41f8-8b57-4458-9b09-9f0d77f9f6cd"
      },
      "outputs": [
        {
          "output_type": "stream",
          "name": "stdout",
          "text": [
            "Found 7176 images belonging to 2 classes.\n",
            "Found 1460 images belonging to 2 classes.\n",
            "Found 2450 images belonging to 2 classes.\n"
          ]
        }
      ],
      "source": [
        "# Part 1 - Getting the data and defining parameters\n",
        "\n",
        "from keras.preprocessing.image import ImageDataGenerator\n",
        "isize = 224\n",
        "\n",
        "train_datagen = ImageDataGenerator(rescale = 1./255)\n",
        "training_set = train_datagen.flow_from_directory(r'/content/drive/MyDrive/ABIDE-I dataset/A_Prepared_Data/train',\n",
        "                                                 target_size = (isize, isize),\n",
        "                                                 class_mode = 'binary',\n",
        "                                                  classes=['ASD', 'TC']\n",
        "                                                 )\n",
        "\n",
        "validation_datagen = ImageDataGenerator(rescale = 1./255)\n",
        "validation_set = train_datagen.flow_from_directory(r'/content/drive/MyDrive/ABIDE-I dataset/A_Prepared_Data/validate',\n",
        "                                                 target_size = (isize, isize),\n",
        "                                                 class_mode = 'binary',\n",
        "                                                   classes=['ASD', 'TC']\n",
        "                                                 )\n",
        "\n",
        "test_datagen = ImageDataGenerator(rescale = 1./255)\n",
        "test_set = test_datagen.flow_from_directory(r'/content/drive/MyDrive/ABIDE-I dataset/A_Prepared_Data/test',\n",
        "                                            target_size = (isize, isize),\n",
        "                                            class_mode = 'binary',\n",
        "                                            classes=['ASD', 'TC']\n",
        "                                            )"
      ],
      "id": "MF8MkSRlf_Ww"
    },
    {
      "cell_type": "code",
      "execution_count": 7,
      "metadata": {
        "colab": {
          "base_uri": "https://localhost:8080/"
        },
        "id": "LQDcu7a9uiPP",
        "outputId": "7d6d1382-325d-4a2d-f8fb-e1a65d0eb525"
      },
      "outputs": [
        {
          "output_type": "stream",
          "name": "stdout",
          "text": [
            "{'ASD': 0, 'TC': 1}\n",
            "{'ASD': 0, 'TC': 1}\n",
            "{'ASD': 0, 'TC': 1}\n"
          ]
        }
      ],
      "source": [
        "print(training_set.class_indices)\n",
        "print(validation_set.class_indices)\n",
        "print(test_set.class_indices)"
      ],
      "id": "LQDcu7a9uiPP"
    },
    {
      "cell_type": "markdown",
      "metadata": {
        "id": "worthy-basis"
      },
      "source": [
        "# Transfer Learning"
      ],
      "id": "worthy-basis"
    },
    {
      "cell_type": "markdown",
      "metadata": {
        "id": "important-paint"
      },
      "source": [
        "Deep convolutional neural network models may take days or even weeks to train\n",
        "\n",
        "1.   List item\n",
        "2.   List item\n",
        "\n",
        "on very large datasets.\n",
        "\n",
        "A way to short-cut this process is to re-use the model weights from pre-trained models that were developed for standard computer vision benchmark datasets, such as the ImageNet image recognition tasks. Top performing models can be downloaded and used directly, or integrated into a new model for your own computer vision problems.\n",
        "\n",
        "In this notebook, I'll be using the **EfficientNetB0** model which will use the weights from the **ImageNet** dataset.\n",
        "\n",
        "The include_top parameter is set to *False* so that the network doesn't include the top layer/ output layer from the pre-built model which allows us to add our own output layer depending upon our use case!"
      ],
      "id": "important-paint"
    },
    {
      "cell_type": "code",
      "execution_count": 13,
      "metadata": {
        "id": "signed-siemens"
      },
      "outputs": [],
      "source": [
        "resnet = ResNet50(weights='imagenet',include_top=False,input_shape=(isize, isize,3))"
      ],
      "id": "signed-siemens"
    },
    {
      "cell_type": "markdown",
      "metadata": {
        "id": "recognized-cookie"
      },
      "source": [
        "**GlobalAveragePooling2D** -> This layer acts similar to the Max Pooling layer in CNNs, the only difference being is that it uses the Average values instead of the Max value while *pooling*. This really helps in decreasing the computational load on the machine while training.\n",
        "<br><br>\n",
        "**Dropout** -> This layer omits some of the neurons at each step from the layer making the neurons more independent from the neibouring neurons. It helps in avoiding overfitting. Neurons to be ommitted are selected at random. The **rate** parameter is the liklihood of a neuron activation being set to 0, thus dropping out the neuron\n",
        "\n",
        "**Dense** -> This is the output layer which classifies the image into 1 of the 4 possible classes. It uses the **softmax** function which is a generalization of the sigmoid function."
      ],
      "id": "recognized-cookie"
    },
    {
      "cell_type": "code",
      "execution_count": 17,
      "metadata": {
        "id": "exclusive-bibliography"
      },
      "outputs": [],
      "source": [
        "for layer in resnet.layers:\n",
        "    layer.trainable = False\n",
        "\n",
        "model = resnet.output\n",
        "model = tf.keras.layers.Flatten()(model)\n",
        "model = tf.keras.layers.Dense(128,activation='relu')(model)\n",
        "model = tf.keras.layers.Dropout(rate=0.5)(model)\n",
        "model = tf.keras.layers.Dense(64,activation='relu')(model)\n",
        "model = tf.keras.layers.Dense(1,activation='sigmoid')(model)\n",
        "model = tf.keras.models.Model(inputs=resnet.input, outputs = model)"
      ],
      "id": "exclusive-bibliography"
    },
    {
      "cell_type": "code",
      "execution_count": 18,
      "metadata": {
        "colab": {
          "base_uri": "https://localhost:8080/"
        },
        "id": "allied-sector",
        "outputId": "9442ed8f-5a90-4a4e-d0e7-94a7c64ff413",
        "scrolled": true
      },
      "outputs": [
        {
          "output_type": "stream",
          "name": "stdout",
          "text": [
            "Model: \"model_1\"\n",
            "__________________________________________________________________________________________________\n",
            " Layer (type)                Output Shape                 Param #   Connected to                  \n",
            "==================================================================================================\n",
            " input_2 (InputLayer)        [(None, 224, 224, 3)]        0         []                            \n",
            "                                                                                                  \n",
            " conv1_pad (ZeroPadding2D)   (None, 230, 230, 3)          0         ['input_2[0][0]']             \n",
            "                                                                                                  \n",
            " conv1_conv (Conv2D)         (None, 112, 112, 64)         9472      ['conv1_pad[0][0]']           \n",
            "                                                                                                  \n",
            " conv1_bn (BatchNormalizati  (None, 112, 112, 64)         256       ['conv1_conv[0][0]']          \n",
            " on)                                                                                              \n",
            "                                                                                                  \n",
            " conv1_relu (Activation)     (None, 112, 112, 64)         0         ['conv1_bn[0][0]']            \n",
            "                                                                                                  \n",
            " pool1_pad (ZeroPadding2D)   (None, 114, 114, 64)         0         ['conv1_relu[0][0]']          \n",
            "                                                                                                  \n",
            " pool1_pool (MaxPooling2D)   (None, 56, 56, 64)           0         ['pool1_pad[0][0]']           \n",
            "                                                                                                  \n",
            " conv2_block1_1_conv (Conv2  (None, 56, 56, 64)           4160      ['pool1_pool[0][0]']          \n",
            " D)                                                                                               \n",
            "                                                                                                  \n",
            " conv2_block1_1_bn (BatchNo  (None, 56, 56, 64)           256       ['conv2_block1_1_conv[0][0]'] \n",
            " rmalization)                                                                                     \n",
            "                                                                                                  \n",
            " conv2_block1_1_relu (Activ  (None, 56, 56, 64)           0         ['conv2_block1_1_bn[0][0]']   \n",
            " ation)                                                                                           \n",
            "                                                                                                  \n",
            " conv2_block1_2_conv (Conv2  (None, 56, 56, 64)           36928     ['conv2_block1_1_relu[0][0]'] \n",
            " D)                                                                                               \n",
            "                                                                                                  \n",
            " conv2_block1_2_bn (BatchNo  (None, 56, 56, 64)           256       ['conv2_block1_2_conv[0][0]'] \n",
            " rmalization)                                                                                     \n",
            "                                                                                                  \n",
            " conv2_block1_2_relu (Activ  (None, 56, 56, 64)           0         ['conv2_block1_2_bn[0][0]']   \n",
            " ation)                                                                                           \n",
            "                                                                                                  \n",
            " conv2_block1_0_conv (Conv2  (None, 56, 56, 256)          16640     ['pool1_pool[0][0]']          \n",
            " D)                                                                                               \n",
            "                                                                                                  \n",
            " conv2_block1_3_conv (Conv2  (None, 56, 56, 256)          16640     ['conv2_block1_2_relu[0][0]'] \n",
            " D)                                                                                               \n",
            "                                                                                                  \n",
            " conv2_block1_0_bn (BatchNo  (None, 56, 56, 256)          1024      ['conv2_block1_0_conv[0][0]'] \n",
            " rmalization)                                                                                     \n",
            "                                                                                                  \n",
            " conv2_block1_3_bn (BatchNo  (None, 56, 56, 256)          1024      ['conv2_block1_3_conv[0][0]'] \n",
            " rmalization)                                                                                     \n",
            "                                                                                                  \n",
            " conv2_block1_add (Add)      (None, 56, 56, 256)          0         ['conv2_block1_0_bn[0][0]',   \n",
            "                                                                     'conv2_block1_3_bn[0][0]']   \n",
            "                                                                                                  \n",
            " conv2_block1_out (Activati  (None, 56, 56, 256)          0         ['conv2_block1_add[0][0]']    \n",
            " on)                                                                                              \n",
            "                                                                                                  \n",
            " conv2_block2_1_conv (Conv2  (None, 56, 56, 64)           16448     ['conv2_block1_out[0][0]']    \n",
            " D)                                                                                               \n",
            "                                                                                                  \n",
            " conv2_block2_1_bn (BatchNo  (None, 56, 56, 64)           256       ['conv2_block2_1_conv[0][0]'] \n",
            " rmalization)                                                                                     \n",
            "                                                                                                  \n",
            " conv2_block2_1_relu (Activ  (None, 56, 56, 64)           0         ['conv2_block2_1_bn[0][0]']   \n",
            " ation)                                                                                           \n",
            "                                                                                                  \n",
            " conv2_block2_2_conv (Conv2  (None, 56, 56, 64)           36928     ['conv2_block2_1_relu[0][0]'] \n",
            " D)                                                                                               \n",
            "                                                                                                  \n",
            " conv2_block2_2_bn (BatchNo  (None, 56, 56, 64)           256       ['conv2_block2_2_conv[0][0]'] \n",
            " rmalization)                                                                                     \n",
            "                                                                                                  \n",
            " conv2_block2_2_relu (Activ  (None, 56, 56, 64)           0         ['conv2_block2_2_bn[0][0]']   \n",
            " ation)                                                                                           \n",
            "                                                                                                  \n",
            " conv2_block2_3_conv (Conv2  (None, 56, 56, 256)          16640     ['conv2_block2_2_relu[0][0]'] \n",
            " D)                                                                                               \n",
            "                                                                                                  \n",
            " conv2_block2_3_bn (BatchNo  (None, 56, 56, 256)          1024      ['conv2_block2_3_conv[0][0]'] \n",
            " rmalization)                                                                                     \n",
            "                                                                                                  \n",
            " conv2_block2_add (Add)      (None, 56, 56, 256)          0         ['conv2_block1_out[0][0]',    \n",
            "                                                                     'conv2_block2_3_bn[0][0]']   \n",
            "                                                                                                  \n",
            " conv2_block2_out (Activati  (None, 56, 56, 256)          0         ['conv2_block2_add[0][0]']    \n",
            " on)                                                                                              \n",
            "                                                                                                  \n",
            " conv2_block3_1_conv (Conv2  (None, 56, 56, 64)           16448     ['conv2_block2_out[0][0]']    \n",
            " D)                                                                                               \n",
            "                                                                                                  \n",
            " conv2_block3_1_bn (BatchNo  (None, 56, 56, 64)           256       ['conv2_block3_1_conv[0][0]'] \n",
            " rmalization)                                                                                     \n",
            "                                                                                                  \n",
            " conv2_block3_1_relu (Activ  (None, 56, 56, 64)           0         ['conv2_block3_1_bn[0][0]']   \n",
            " ation)                                                                                           \n",
            "                                                                                                  \n",
            " conv2_block3_2_conv (Conv2  (None, 56, 56, 64)           36928     ['conv2_block3_1_relu[0][0]'] \n",
            " D)                                                                                               \n",
            "                                                                                                  \n",
            " conv2_block3_2_bn (BatchNo  (None, 56, 56, 64)           256       ['conv2_block3_2_conv[0][0]'] \n",
            " rmalization)                                                                                     \n",
            "                                                                                                  \n",
            " conv2_block3_2_relu (Activ  (None, 56, 56, 64)           0         ['conv2_block3_2_bn[0][0]']   \n",
            " ation)                                                                                           \n",
            "                                                                                                  \n",
            " conv2_block3_3_conv (Conv2  (None, 56, 56, 256)          16640     ['conv2_block3_2_relu[0][0]'] \n",
            " D)                                                                                               \n",
            "                                                                                                  \n",
            " conv2_block3_3_bn (BatchNo  (None, 56, 56, 256)          1024      ['conv2_block3_3_conv[0][0]'] \n",
            " rmalization)                                                                                     \n",
            "                                                                                                  \n",
            " conv2_block3_add (Add)      (None, 56, 56, 256)          0         ['conv2_block2_out[0][0]',    \n",
            "                                                                     'conv2_block3_3_bn[0][0]']   \n",
            "                                                                                                  \n",
            " conv2_block3_out (Activati  (None, 56, 56, 256)          0         ['conv2_block3_add[0][0]']    \n",
            " on)                                                                                              \n",
            "                                                                                                  \n",
            " conv3_block1_1_conv (Conv2  (None, 28, 28, 128)          32896     ['conv2_block3_out[0][0]']    \n",
            " D)                                                                                               \n",
            "                                                                                                  \n",
            " conv3_block1_1_bn (BatchNo  (None, 28, 28, 128)          512       ['conv3_block1_1_conv[0][0]'] \n",
            " rmalization)                                                                                     \n",
            "                                                                                                  \n",
            " conv3_block1_1_relu (Activ  (None, 28, 28, 128)          0         ['conv3_block1_1_bn[0][0]']   \n",
            " ation)                                                                                           \n",
            "                                                                                                  \n",
            " conv3_block1_2_conv (Conv2  (None, 28, 28, 128)          147584    ['conv3_block1_1_relu[0][0]'] \n",
            " D)                                                                                               \n",
            "                                                                                                  \n",
            " conv3_block1_2_bn (BatchNo  (None, 28, 28, 128)          512       ['conv3_block1_2_conv[0][0]'] \n",
            " rmalization)                                                                                     \n",
            "                                                                                                  \n",
            " conv3_block1_2_relu (Activ  (None, 28, 28, 128)          0         ['conv3_block1_2_bn[0][0]']   \n",
            " ation)                                                                                           \n",
            "                                                                                                  \n",
            " conv3_block1_0_conv (Conv2  (None, 28, 28, 512)          131584    ['conv2_block3_out[0][0]']    \n",
            " D)                                                                                               \n",
            "                                                                                                  \n",
            " conv3_block1_3_conv (Conv2  (None, 28, 28, 512)          66048     ['conv3_block1_2_relu[0][0]'] \n",
            " D)                                                                                               \n",
            "                                                                                                  \n",
            " conv3_block1_0_bn (BatchNo  (None, 28, 28, 512)          2048      ['conv3_block1_0_conv[0][0]'] \n",
            " rmalization)                                                                                     \n",
            "                                                                                                  \n",
            " conv3_block1_3_bn (BatchNo  (None, 28, 28, 512)          2048      ['conv3_block1_3_conv[0][0]'] \n",
            " rmalization)                                                                                     \n",
            "                                                                                                  \n",
            " conv3_block1_add (Add)      (None, 28, 28, 512)          0         ['conv3_block1_0_bn[0][0]',   \n",
            "                                                                     'conv3_block1_3_bn[0][0]']   \n",
            "                                                                                                  \n",
            " conv3_block1_out (Activati  (None, 28, 28, 512)          0         ['conv3_block1_add[0][0]']    \n",
            " on)                                                                                              \n",
            "                                                                                                  \n",
            " conv3_block2_1_conv (Conv2  (None, 28, 28, 128)          65664     ['conv3_block1_out[0][0]']    \n",
            " D)                                                                                               \n",
            "                                                                                                  \n",
            " conv3_block2_1_bn (BatchNo  (None, 28, 28, 128)          512       ['conv3_block2_1_conv[0][0]'] \n",
            " rmalization)                                                                                     \n",
            "                                                                                                  \n",
            " conv3_block2_1_relu (Activ  (None, 28, 28, 128)          0         ['conv3_block2_1_bn[0][0]']   \n",
            " ation)                                                                                           \n",
            "                                                                                                  \n",
            " conv3_block2_2_conv (Conv2  (None, 28, 28, 128)          147584    ['conv3_block2_1_relu[0][0]'] \n",
            " D)                                                                                               \n",
            "                                                                                                  \n",
            " conv3_block2_2_bn (BatchNo  (None, 28, 28, 128)          512       ['conv3_block2_2_conv[0][0]'] \n",
            " rmalization)                                                                                     \n",
            "                                                                                                  \n",
            " conv3_block2_2_relu (Activ  (None, 28, 28, 128)          0         ['conv3_block2_2_bn[0][0]']   \n",
            " ation)                                                                                           \n",
            "                                                                                                  \n",
            " conv3_block2_3_conv (Conv2  (None, 28, 28, 512)          66048     ['conv3_block2_2_relu[0][0]'] \n",
            " D)                                                                                               \n",
            "                                                                                                  \n",
            " conv3_block2_3_bn (BatchNo  (None, 28, 28, 512)          2048      ['conv3_block2_3_conv[0][0]'] \n",
            " rmalization)                                                                                     \n",
            "                                                                                                  \n",
            " conv3_block2_add (Add)      (None, 28, 28, 512)          0         ['conv3_block1_out[0][0]',    \n",
            "                                                                     'conv3_block2_3_bn[0][0]']   \n",
            "                                                                                                  \n",
            " conv3_block2_out (Activati  (None, 28, 28, 512)          0         ['conv3_block2_add[0][0]']    \n",
            " on)                                                                                              \n",
            "                                                                                                  \n",
            " conv3_block3_1_conv (Conv2  (None, 28, 28, 128)          65664     ['conv3_block2_out[0][0]']    \n",
            " D)                                                                                               \n",
            "                                                                                                  \n",
            " conv3_block3_1_bn (BatchNo  (None, 28, 28, 128)          512       ['conv3_block3_1_conv[0][0]'] \n",
            " rmalization)                                                                                     \n",
            "                                                                                                  \n",
            " conv3_block3_1_relu (Activ  (None, 28, 28, 128)          0         ['conv3_block3_1_bn[0][0]']   \n",
            " ation)                                                                                           \n",
            "                                                                                                  \n",
            " conv3_block3_2_conv (Conv2  (None, 28, 28, 128)          147584    ['conv3_block3_1_relu[0][0]'] \n",
            " D)                                                                                               \n",
            "                                                                                                  \n",
            " conv3_block3_2_bn (BatchNo  (None, 28, 28, 128)          512       ['conv3_block3_2_conv[0][0]'] \n",
            " rmalization)                                                                                     \n",
            "                                                                                                  \n",
            " conv3_block3_2_relu (Activ  (None, 28, 28, 128)          0         ['conv3_block3_2_bn[0][0]']   \n",
            " ation)                                                                                           \n",
            "                                                                                                  \n",
            " conv3_block3_3_conv (Conv2  (None, 28, 28, 512)          66048     ['conv3_block3_2_relu[0][0]'] \n",
            " D)                                                                                               \n",
            "                                                                                                  \n",
            " conv3_block3_3_bn (BatchNo  (None, 28, 28, 512)          2048      ['conv3_block3_3_conv[0][0]'] \n",
            " rmalization)                                                                                     \n",
            "                                                                                                  \n",
            " conv3_block3_add (Add)      (None, 28, 28, 512)          0         ['conv3_block2_out[0][0]',    \n",
            "                                                                     'conv3_block3_3_bn[0][0]']   \n",
            "                                                                                                  \n",
            " conv3_block3_out (Activati  (None, 28, 28, 512)          0         ['conv3_block3_add[0][0]']    \n",
            " on)                                                                                              \n",
            "                                                                                                  \n",
            " conv3_block4_1_conv (Conv2  (None, 28, 28, 128)          65664     ['conv3_block3_out[0][0]']    \n",
            " D)                                                                                               \n",
            "                                                                                                  \n",
            " conv3_block4_1_bn (BatchNo  (None, 28, 28, 128)          512       ['conv3_block4_1_conv[0][0]'] \n",
            " rmalization)                                                                                     \n",
            "                                                                                                  \n",
            " conv3_block4_1_relu (Activ  (None, 28, 28, 128)          0         ['conv3_block4_1_bn[0][0]']   \n",
            " ation)                                                                                           \n",
            "                                                                                                  \n",
            " conv3_block4_2_conv (Conv2  (None, 28, 28, 128)          147584    ['conv3_block4_1_relu[0][0]'] \n",
            " D)                                                                                               \n",
            "                                                                                                  \n",
            " conv3_block4_2_bn (BatchNo  (None, 28, 28, 128)          512       ['conv3_block4_2_conv[0][0]'] \n",
            " rmalization)                                                                                     \n",
            "                                                                                                  \n",
            " conv3_block4_2_relu (Activ  (None, 28, 28, 128)          0         ['conv3_block4_2_bn[0][0]']   \n",
            " ation)                                                                                           \n",
            "                                                                                                  \n",
            " conv3_block4_3_conv (Conv2  (None, 28, 28, 512)          66048     ['conv3_block4_2_relu[0][0]'] \n",
            " D)                                                                                               \n",
            "                                                                                                  \n",
            " conv3_block4_3_bn (BatchNo  (None, 28, 28, 512)          2048      ['conv3_block4_3_conv[0][0]'] \n",
            " rmalization)                                                                                     \n",
            "                                                                                                  \n",
            " conv3_block4_add (Add)      (None, 28, 28, 512)          0         ['conv3_block3_out[0][0]',    \n",
            "                                                                     'conv3_block4_3_bn[0][0]']   \n",
            "                                                                                                  \n",
            " conv3_block4_out (Activati  (None, 28, 28, 512)          0         ['conv3_block4_add[0][0]']    \n",
            " on)                                                                                              \n",
            "                                                                                                  \n",
            " conv4_block1_1_conv (Conv2  (None, 14, 14, 256)          131328    ['conv3_block4_out[0][0]']    \n",
            " D)                                                                                               \n",
            "                                                                                                  \n",
            " conv4_block1_1_bn (BatchNo  (None, 14, 14, 256)          1024      ['conv4_block1_1_conv[0][0]'] \n",
            " rmalization)                                                                                     \n",
            "                                                                                                  \n",
            " conv4_block1_1_relu (Activ  (None, 14, 14, 256)          0         ['conv4_block1_1_bn[0][0]']   \n",
            " ation)                                                                                           \n",
            "                                                                                                  \n",
            " conv4_block1_2_conv (Conv2  (None, 14, 14, 256)          590080    ['conv4_block1_1_relu[0][0]'] \n",
            " D)                                                                                               \n",
            "                                                                                                  \n",
            " conv4_block1_2_bn (BatchNo  (None, 14, 14, 256)          1024      ['conv4_block1_2_conv[0][0]'] \n",
            " rmalization)                                                                                     \n",
            "                                                                                                  \n",
            " conv4_block1_2_relu (Activ  (None, 14, 14, 256)          0         ['conv4_block1_2_bn[0][0]']   \n",
            " ation)                                                                                           \n",
            "                                                                                                  \n",
            " conv4_block1_0_conv (Conv2  (None, 14, 14, 1024)         525312    ['conv3_block4_out[0][0]']    \n",
            " D)                                                                                               \n",
            "                                                                                                  \n",
            " conv4_block1_3_conv (Conv2  (None, 14, 14, 1024)         263168    ['conv4_block1_2_relu[0][0]'] \n",
            " D)                                                                                               \n",
            "                                                                                                  \n",
            " conv4_block1_0_bn (BatchNo  (None, 14, 14, 1024)         4096      ['conv4_block1_0_conv[0][0]'] \n",
            " rmalization)                                                                                     \n",
            "                                                                                                  \n",
            " conv4_block1_3_bn (BatchNo  (None, 14, 14, 1024)         4096      ['conv4_block1_3_conv[0][0]'] \n",
            " rmalization)                                                                                     \n",
            "                                                                                                  \n",
            " conv4_block1_add (Add)      (None, 14, 14, 1024)         0         ['conv4_block1_0_bn[0][0]',   \n",
            "                                                                     'conv4_block1_3_bn[0][0]']   \n",
            "                                                                                                  \n",
            " conv4_block1_out (Activati  (None, 14, 14, 1024)         0         ['conv4_block1_add[0][0]']    \n",
            " on)                                                                                              \n",
            "                                                                                                  \n",
            " conv4_block2_1_conv (Conv2  (None, 14, 14, 256)          262400    ['conv4_block1_out[0][0]']    \n",
            " D)                                                                                               \n",
            "                                                                                                  \n",
            " conv4_block2_1_bn (BatchNo  (None, 14, 14, 256)          1024      ['conv4_block2_1_conv[0][0]'] \n",
            " rmalization)                                                                                     \n",
            "                                                                                                  \n",
            " conv4_block2_1_relu (Activ  (None, 14, 14, 256)          0         ['conv4_block2_1_bn[0][0]']   \n",
            " ation)                                                                                           \n",
            "                                                                                                  \n",
            " conv4_block2_2_conv (Conv2  (None, 14, 14, 256)          590080    ['conv4_block2_1_relu[0][0]'] \n",
            " D)                                                                                               \n",
            "                                                                                                  \n",
            " conv4_block2_2_bn (BatchNo  (None, 14, 14, 256)          1024      ['conv4_block2_2_conv[0][0]'] \n",
            " rmalization)                                                                                     \n",
            "                                                                                                  \n",
            " conv4_block2_2_relu (Activ  (None, 14, 14, 256)          0         ['conv4_block2_2_bn[0][0]']   \n",
            " ation)                                                                                           \n",
            "                                                                                                  \n",
            " conv4_block2_3_conv (Conv2  (None, 14, 14, 1024)         263168    ['conv4_block2_2_relu[0][0]'] \n",
            " D)                                                                                               \n",
            "                                                                                                  \n",
            " conv4_block2_3_bn (BatchNo  (None, 14, 14, 1024)         4096      ['conv4_block2_3_conv[0][0]'] \n",
            " rmalization)                                                                                     \n",
            "                                                                                                  \n",
            " conv4_block2_add (Add)      (None, 14, 14, 1024)         0         ['conv4_block1_out[0][0]',    \n",
            "                                                                     'conv4_block2_3_bn[0][0]']   \n",
            "                                                                                                  \n",
            " conv4_block2_out (Activati  (None, 14, 14, 1024)         0         ['conv4_block2_add[0][0]']    \n",
            " on)                                                                                              \n",
            "                                                                                                  \n",
            " conv4_block3_1_conv (Conv2  (None, 14, 14, 256)          262400    ['conv4_block2_out[0][0]']    \n",
            " D)                                                                                               \n",
            "                                                                                                  \n",
            " conv4_block3_1_bn (BatchNo  (None, 14, 14, 256)          1024      ['conv4_block3_1_conv[0][0]'] \n",
            " rmalization)                                                                                     \n",
            "                                                                                                  \n",
            " conv4_block3_1_relu (Activ  (None, 14, 14, 256)          0         ['conv4_block3_1_bn[0][0]']   \n",
            " ation)                                                                                           \n",
            "                                                                                                  \n",
            " conv4_block3_2_conv (Conv2  (None, 14, 14, 256)          590080    ['conv4_block3_1_relu[0][0]'] \n",
            " D)                                                                                               \n",
            "                                                                                                  \n",
            " conv4_block3_2_bn (BatchNo  (None, 14, 14, 256)          1024      ['conv4_block3_2_conv[0][0]'] \n",
            " rmalization)                                                                                     \n",
            "                                                                                                  \n",
            " conv4_block3_2_relu (Activ  (None, 14, 14, 256)          0         ['conv4_block3_2_bn[0][0]']   \n",
            " ation)                                                                                           \n",
            "                                                                                                  \n",
            " conv4_block3_3_conv (Conv2  (None, 14, 14, 1024)         263168    ['conv4_block3_2_relu[0][0]'] \n",
            " D)                                                                                               \n",
            "                                                                                                  \n",
            " conv4_block3_3_bn (BatchNo  (None, 14, 14, 1024)         4096      ['conv4_block3_3_conv[0][0]'] \n",
            " rmalization)                                                                                     \n",
            "                                                                                                  \n",
            " conv4_block3_add (Add)      (None, 14, 14, 1024)         0         ['conv4_block2_out[0][0]',    \n",
            "                                                                     'conv4_block3_3_bn[0][0]']   \n",
            "                                                                                                  \n",
            " conv4_block3_out (Activati  (None, 14, 14, 1024)         0         ['conv4_block3_add[0][0]']    \n",
            " on)                                                                                              \n",
            "                                                                                                  \n",
            " conv4_block4_1_conv (Conv2  (None, 14, 14, 256)          262400    ['conv4_block3_out[0][0]']    \n",
            " D)                                                                                               \n",
            "                                                                                                  \n",
            " conv4_block4_1_bn (BatchNo  (None, 14, 14, 256)          1024      ['conv4_block4_1_conv[0][0]'] \n",
            " rmalization)                                                                                     \n",
            "                                                                                                  \n",
            " conv4_block4_1_relu (Activ  (None, 14, 14, 256)          0         ['conv4_block4_1_bn[0][0]']   \n",
            " ation)                                                                                           \n",
            "                                                                                                  \n",
            " conv4_block4_2_conv (Conv2  (None, 14, 14, 256)          590080    ['conv4_block4_1_relu[0][0]'] \n",
            " D)                                                                                               \n",
            "                                                                                                  \n",
            " conv4_block4_2_bn (BatchNo  (None, 14, 14, 256)          1024      ['conv4_block4_2_conv[0][0]'] \n",
            " rmalization)                                                                                     \n",
            "                                                                                                  \n",
            " conv4_block4_2_relu (Activ  (None, 14, 14, 256)          0         ['conv4_block4_2_bn[0][0]']   \n",
            " ation)                                                                                           \n",
            "                                                                                                  \n",
            " conv4_block4_3_conv (Conv2  (None, 14, 14, 1024)         263168    ['conv4_block4_2_relu[0][0]'] \n",
            " D)                                                                                               \n",
            "                                                                                                  \n",
            " conv4_block4_3_bn (BatchNo  (None, 14, 14, 1024)         4096      ['conv4_block4_3_conv[0][0]'] \n",
            " rmalization)                                                                                     \n",
            "                                                                                                  \n",
            " conv4_block4_add (Add)      (None, 14, 14, 1024)         0         ['conv4_block3_out[0][0]',    \n",
            "                                                                     'conv4_block4_3_bn[0][0]']   \n",
            "                                                                                                  \n",
            " conv4_block4_out (Activati  (None, 14, 14, 1024)         0         ['conv4_block4_add[0][0]']    \n",
            " on)                                                                                              \n",
            "                                                                                                  \n",
            " conv4_block5_1_conv (Conv2  (None, 14, 14, 256)          262400    ['conv4_block4_out[0][0]']    \n",
            " D)                                                                                               \n",
            "                                                                                                  \n",
            " conv4_block5_1_bn (BatchNo  (None, 14, 14, 256)          1024      ['conv4_block5_1_conv[0][0]'] \n",
            " rmalization)                                                                                     \n",
            "                                                                                                  \n",
            " conv4_block5_1_relu (Activ  (None, 14, 14, 256)          0         ['conv4_block5_1_bn[0][0]']   \n",
            " ation)                                                                                           \n",
            "                                                                                                  \n",
            " conv4_block5_2_conv (Conv2  (None, 14, 14, 256)          590080    ['conv4_block5_1_relu[0][0]'] \n",
            " D)                                                                                               \n",
            "                                                                                                  \n",
            " conv4_block5_2_bn (BatchNo  (None, 14, 14, 256)          1024      ['conv4_block5_2_conv[0][0]'] \n",
            " rmalization)                                                                                     \n",
            "                                                                                                  \n",
            " conv4_block5_2_relu (Activ  (None, 14, 14, 256)          0         ['conv4_block5_2_bn[0][0]']   \n",
            " ation)                                                                                           \n",
            "                                                                                                  \n",
            " conv4_block5_3_conv (Conv2  (None, 14, 14, 1024)         263168    ['conv4_block5_2_relu[0][0]'] \n",
            " D)                                                                                               \n",
            "                                                                                                  \n",
            " conv4_block5_3_bn (BatchNo  (None, 14, 14, 1024)         4096      ['conv4_block5_3_conv[0][0]'] \n",
            " rmalization)                                                                                     \n",
            "                                                                                                  \n",
            " conv4_block5_add (Add)      (None, 14, 14, 1024)         0         ['conv4_block4_out[0][0]',    \n",
            "                                                                     'conv4_block5_3_bn[0][0]']   \n",
            "                                                                                                  \n",
            " conv4_block5_out (Activati  (None, 14, 14, 1024)         0         ['conv4_block5_add[0][0]']    \n",
            " on)                                                                                              \n",
            "                                                                                                  \n",
            " conv4_block6_1_conv (Conv2  (None, 14, 14, 256)          262400    ['conv4_block5_out[0][0]']    \n",
            " D)                                                                                               \n",
            "                                                                                                  \n",
            " conv4_block6_1_bn (BatchNo  (None, 14, 14, 256)          1024      ['conv4_block6_1_conv[0][0]'] \n",
            " rmalization)                                                                                     \n",
            "                                                                                                  \n",
            " conv4_block6_1_relu (Activ  (None, 14, 14, 256)          0         ['conv4_block6_1_bn[0][0]']   \n",
            " ation)                                                                                           \n",
            "                                                                                                  \n",
            " conv4_block6_2_conv (Conv2  (None, 14, 14, 256)          590080    ['conv4_block6_1_relu[0][0]'] \n",
            " D)                                                                                               \n",
            "                                                                                                  \n",
            " conv4_block6_2_bn (BatchNo  (None, 14, 14, 256)          1024      ['conv4_block6_2_conv[0][0]'] \n",
            " rmalization)                                                                                     \n",
            "                                                                                                  \n",
            " conv4_block6_2_relu (Activ  (None, 14, 14, 256)          0         ['conv4_block6_2_bn[0][0]']   \n",
            " ation)                                                                                           \n",
            "                                                                                                  \n",
            " conv4_block6_3_conv (Conv2  (None, 14, 14, 1024)         263168    ['conv4_block6_2_relu[0][0]'] \n",
            " D)                                                                                               \n",
            "                                                                                                  \n",
            " conv4_block6_3_bn (BatchNo  (None, 14, 14, 1024)         4096      ['conv4_block6_3_conv[0][0]'] \n",
            " rmalization)                                                                                     \n",
            "                                                                                                  \n",
            " conv4_block6_add (Add)      (None, 14, 14, 1024)         0         ['conv4_block5_out[0][0]',    \n",
            "                                                                     'conv4_block6_3_bn[0][0]']   \n",
            "                                                                                                  \n",
            " conv4_block6_out (Activati  (None, 14, 14, 1024)         0         ['conv4_block6_add[0][0]']    \n",
            " on)                                                                                              \n",
            "                                                                                                  \n",
            " conv5_block1_1_conv (Conv2  (None, 7, 7, 512)            524800    ['conv4_block6_out[0][0]']    \n",
            " D)                                                                                               \n",
            "                                                                                                  \n",
            " conv5_block1_1_bn (BatchNo  (None, 7, 7, 512)            2048      ['conv5_block1_1_conv[0][0]'] \n",
            " rmalization)                                                                                     \n",
            "                                                                                                  \n",
            " conv5_block1_1_relu (Activ  (None, 7, 7, 512)            0         ['conv5_block1_1_bn[0][0]']   \n",
            " ation)                                                                                           \n",
            "                                                                                                  \n",
            " conv5_block1_2_conv (Conv2  (None, 7, 7, 512)            2359808   ['conv5_block1_1_relu[0][0]'] \n",
            " D)                                                                                               \n",
            "                                                                                                  \n",
            " conv5_block1_2_bn (BatchNo  (None, 7, 7, 512)            2048      ['conv5_block1_2_conv[0][0]'] \n",
            " rmalization)                                                                                     \n",
            "                                                                                                  \n",
            " conv5_block1_2_relu (Activ  (None, 7, 7, 512)            0         ['conv5_block1_2_bn[0][0]']   \n",
            " ation)                                                                                           \n",
            "                                                                                                  \n",
            " conv5_block1_0_conv (Conv2  (None, 7, 7, 2048)           2099200   ['conv4_block6_out[0][0]']    \n",
            " D)                                                                                               \n",
            "                                                                                                  \n",
            " conv5_block1_3_conv (Conv2  (None, 7, 7, 2048)           1050624   ['conv5_block1_2_relu[0][0]'] \n",
            " D)                                                                                               \n",
            "                                                                                                  \n",
            " conv5_block1_0_bn (BatchNo  (None, 7, 7, 2048)           8192      ['conv5_block1_0_conv[0][0]'] \n",
            " rmalization)                                                                                     \n",
            "                                                                                                  \n",
            " conv5_block1_3_bn (BatchNo  (None, 7, 7, 2048)           8192      ['conv5_block1_3_conv[0][0]'] \n",
            " rmalization)                                                                                     \n",
            "                                                                                                  \n",
            " conv5_block1_add (Add)      (None, 7, 7, 2048)           0         ['conv5_block1_0_bn[0][0]',   \n",
            "                                                                     'conv5_block1_3_bn[0][0]']   \n",
            "                                                                                                  \n",
            " conv5_block1_out (Activati  (None, 7, 7, 2048)           0         ['conv5_block1_add[0][0]']    \n",
            " on)                                                                                              \n",
            "                                                                                                  \n",
            " conv5_block2_1_conv (Conv2  (None, 7, 7, 512)            1049088   ['conv5_block1_out[0][0]']    \n",
            " D)                                                                                               \n",
            "                                                                                                  \n",
            " conv5_block2_1_bn (BatchNo  (None, 7, 7, 512)            2048      ['conv5_block2_1_conv[0][0]'] \n",
            " rmalization)                                                                                     \n",
            "                                                                                                  \n",
            " conv5_block2_1_relu (Activ  (None, 7, 7, 512)            0         ['conv5_block2_1_bn[0][0]']   \n",
            " ation)                                                                                           \n",
            "                                                                                                  \n",
            " conv5_block2_2_conv (Conv2  (None, 7, 7, 512)            2359808   ['conv5_block2_1_relu[0][0]'] \n",
            " D)                                                                                               \n",
            "                                                                                                  \n",
            " conv5_block2_2_bn (BatchNo  (None, 7, 7, 512)            2048      ['conv5_block2_2_conv[0][0]'] \n",
            " rmalization)                                                                                     \n",
            "                                                                                                  \n",
            " conv5_block2_2_relu (Activ  (None, 7, 7, 512)            0         ['conv5_block2_2_bn[0][0]']   \n",
            " ation)                                                                                           \n",
            "                                                                                                  \n",
            " conv5_block2_3_conv (Conv2  (None, 7, 7, 2048)           1050624   ['conv5_block2_2_relu[0][0]'] \n",
            " D)                                                                                               \n",
            "                                                                                                  \n",
            " conv5_block2_3_bn (BatchNo  (None, 7, 7, 2048)           8192      ['conv5_block2_3_conv[0][0]'] \n",
            " rmalization)                                                                                     \n",
            "                                                                                                  \n",
            " conv5_block2_add (Add)      (None, 7, 7, 2048)           0         ['conv5_block1_out[0][0]',    \n",
            "                                                                     'conv5_block2_3_bn[0][0]']   \n",
            "                                                                                                  \n",
            " conv5_block2_out (Activati  (None, 7, 7, 2048)           0         ['conv5_block2_add[0][0]']    \n",
            " on)                                                                                              \n",
            "                                                                                                  \n",
            " conv5_block3_1_conv (Conv2  (None, 7, 7, 512)            1049088   ['conv5_block2_out[0][0]']    \n",
            " D)                                                                                               \n",
            "                                                                                                  \n",
            " conv5_block3_1_bn (BatchNo  (None, 7, 7, 512)            2048      ['conv5_block3_1_conv[0][0]'] \n",
            " rmalization)                                                                                     \n",
            "                                                                                                  \n",
            " conv5_block3_1_relu (Activ  (None, 7, 7, 512)            0         ['conv5_block3_1_bn[0][0]']   \n",
            " ation)                                                                                           \n",
            "                                                                                                  \n",
            " conv5_block3_2_conv (Conv2  (None, 7, 7, 512)            2359808   ['conv5_block3_1_relu[0][0]'] \n",
            " D)                                                                                               \n",
            "                                                                                                  \n",
            " conv5_block3_2_bn (BatchNo  (None, 7, 7, 512)            2048      ['conv5_block3_2_conv[0][0]'] \n",
            " rmalization)                                                                                     \n",
            "                                                                                                  \n",
            " conv5_block3_2_relu (Activ  (None, 7, 7, 512)            0         ['conv5_block3_2_bn[0][0]']   \n",
            " ation)                                                                                           \n",
            "                                                                                                  \n",
            " conv5_block3_3_conv (Conv2  (None, 7, 7, 2048)           1050624   ['conv5_block3_2_relu[0][0]'] \n",
            " D)                                                                                               \n",
            "                                                                                                  \n",
            " conv5_block3_3_bn (BatchNo  (None, 7, 7, 2048)           8192      ['conv5_block3_3_conv[0][0]'] \n",
            " rmalization)                                                                                     \n",
            "                                                                                                  \n",
            " conv5_block3_add (Add)      (None, 7, 7, 2048)           0         ['conv5_block2_out[0][0]',    \n",
            "                                                                     'conv5_block3_3_bn[0][0]']   \n",
            "                                                                                                  \n",
            " conv5_block3_out (Activati  (None, 7, 7, 2048)           0         ['conv5_block3_add[0][0]']    \n",
            " on)                                                                                              \n",
            "                                                                                                  \n",
            " flatten_1 (Flatten)         (None, 100352)               0         ['conv5_block3_out[0][0]']    \n",
            "                                                                                                  \n",
            " dense_3 (Dense)             (None, 128)                  1284518   ['flatten_1[0][0]']           \n",
            "                                                          4                                       \n",
            "                                                                                                  \n",
            " dropout_1 (Dropout)         (None, 128)                  0         ['dense_3[0][0]']             \n",
            "                                                                                                  \n",
            " dense_4 (Dense)             (None, 64)                   8256      ['dropout_1[0][0]']           \n",
            "                                                                                                  \n",
            " dense_5 (Dense)             (None, 1)                    65        ['dense_4[0][0]']             \n",
            "                                                                                                  \n",
            "==================================================================================================\n",
            "Total params: 36441217 (139.01 MB)\n",
            "Trainable params: 12853505 (49.03 MB)\n",
            "Non-trainable params: 23587712 (89.98 MB)\n",
            "__________________________________________________________________________________________________\n"
          ]
        }
      ],
      "source": [
        "model.summary()"
      ],
      "id": "allied-sector"
    },
    {
      "cell_type": "code",
      "execution_count": 19,
      "metadata": {
        "id": "advanced-bouquet"
      },
      "outputs": [],
      "source": [
        "model.compile(loss='binary_crossentropy',optimizer = 'Adam', metrics= ['accuracy'])"
      ],
      "id": "advanced-bouquet"
    },
    {
      "cell_type": "markdown",
      "metadata": {
        "id": "decent-preservation"
      },
      "source": [
        "**Callbacks** -> Callbacks can help you fix bugs more quickly, and can help you build better models. They can help you visualize how your model’s training is going, and can even help prevent overfitting by implementing early stopping or customizing the learning rate on each iteration.<br><br>\n",
        "By definition, \"A callback is a set of functions to be applied at given stages of the training procedure. You can use callbacks to get a view on internal states and statistics of the model during training.\"\n",
        "\n",
        "In this notebook, I'll be using **TensorBoard, ModelCheckpoint and ReduceLROnPlateau** callback functions"
      ],
      "id": "decent-preservation"
    },
    {
      "cell_type": "code",
      "execution_count": 20,
      "metadata": {
        "id": "bibliographic-luxury"
      },
      "outputs": [],
      "source": [
        "# tensorboard = TensorBoard(log_dir = 'logs')\n",
        "checkpoint = ModelCheckpoint(\"/content/drive/MyDrive/ABIDE-I dataset/resnet50\",monitor=\"val_accuracy\",save_best_only=True,verbose=1)\n",
        "reduce_lr = ReduceLROnPlateau(monitor = 'val_accuracy', factor = 0.2, patience = 1, min_delta = 0.001,verbose=1)"
      ],
      "id": "bibliographic-luxury"
    },
    {
      "cell_type": "markdown",
      "metadata": {
        "id": "raising-finger"
      },
      "source": [
        "---"
      ],
      "id": "raising-finger"
    },
    {
      "cell_type": "markdown",
      "metadata": {
        "id": "tropical-addiction"
      },
      "source": [
        "# Training The Model"
      ],
      "id": "tropical-addiction"
    },
    {
      "cell_type": "markdown",
      "metadata": {
        "id": "suburban-method"
      },
      "source": [
        "**Note**: The training takes alot of time! ~ 2 hours for me (Using CPU)<br>\n",
        "Barely took 5 minutes with the GPU."
      ],
      "id": "suburban-method"
    },
    {
      "cell_type": "code",
      "execution_count": 21,
      "metadata": {
        "colab": {
          "base_uri": "https://localhost:8080/"
        },
        "id": "1Q-fJV7vdCK6",
        "outputId": "e1af7758-2972-4c86-f05f-9598cb265869"
      },
      "outputs": [
        {
          "output_type": "stream",
          "name": "stdout",
          "text": [
            "Epoch 1/25\n",
            "224/224 [==============================] - ETA: 0s - loss: 0.8529 - accuracy: 0.5063 \n",
            "Epoch 1: val_accuracy improved from -inf to 0.63125, saving model to /content/drive/MyDrive/ABIDE-I dataset/resnet50\n",
            "224/224 [==============================] - 6929s 31s/step - loss: 0.8529 - accuracy: 0.5063 - val_loss: 0.6889 - val_accuracy: 0.6313 - lr: 0.0010\n",
            "Epoch 2/25\n",
            "224/224 [==============================] - ETA: 0s - loss: 0.6930 - accuracy: 0.5126\n",
            "Epoch 2: val_accuracy did not improve from 0.63125\n",
            "\n",
            "Epoch 2: ReduceLROnPlateau reducing learning rate to 0.00020000000949949026.\n",
            "224/224 [==============================] - 33s 145ms/step - loss: 0.6930 - accuracy: 0.5126 - val_loss: 0.6882 - val_accuracy: 0.6306 - lr: 0.0010\n",
            "Epoch 3/25\n",
            "224/224 [==============================] - ETA: 0s - loss: 0.6929 - accuracy: 0.5119\n",
            "Epoch 3: val_accuracy did not improve from 0.63125\n",
            "\n",
            "Epoch 3: ReduceLROnPlateau reducing learning rate to 4.0000001899898055e-05.\n",
            "224/224 [==============================] - 32s 140ms/step - loss: 0.6929 - accuracy: 0.5119 - val_loss: 0.6877 - val_accuracy: 0.6313 - lr: 2.0000e-04\n",
            "Epoch 4/25\n",
            "224/224 [==============================] - ETA: 0s - loss: 0.6928 - accuracy: 0.5125\n",
            "Epoch 4: val_accuracy did not improve from 0.63125\n",
            "\n",
            "Epoch 4: ReduceLROnPlateau reducing learning rate to 8.000000525498762e-06.\n",
            "224/224 [==============================] - 32s 143ms/step - loss: 0.6928 - accuracy: 0.5125 - val_loss: 0.6877 - val_accuracy: 0.6299 - lr: 4.0000e-05\n",
            "Epoch 5/25\n",
            "224/224 [==============================] - ETA: 0s - loss: 0.6928 - accuracy: 0.5125\n",
            "Epoch 5: val_accuracy improved from 0.63125 to 0.63333, saving model to /content/drive/MyDrive/ABIDE-I dataset/resnet50\n",
            "224/224 [==============================] - 49s 218ms/step - loss: 0.6928 - accuracy: 0.5125 - val_loss: 0.6875 - val_accuracy: 0.6333 - lr: 8.0000e-06\n",
            "Epoch 6/25\n",
            "224/224 [==============================] - ETA: 0s - loss: 0.6928 - accuracy: 0.5130\n",
            "Epoch 6: val_accuracy did not improve from 0.63333\n",
            "\n",
            "Epoch 6: ReduceLROnPlateau reducing learning rate to 1.6000001778593287e-06.\n",
            "224/224 [==============================] - 32s 142ms/step - loss: 0.6928 - accuracy: 0.5130 - val_loss: 0.6876 - val_accuracy: 0.6313 - lr: 8.0000e-06\n",
            "Epoch 7/25\n",
            "224/224 [==============================] - ETA: 0s - loss: 0.6928 - accuracy: 0.5125\n",
            "Epoch 7: val_accuracy did not improve from 0.63333\n",
            "\n",
            "Epoch 7: ReduceLROnPlateau reducing learning rate to 3.200000264769187e-07.\n",
            "224/224 [==============================] - 32s 142ms/step - loss: 0.6928 - accuracy: 0.5125 - val_loss: 0.6877 - val_accuracy: 0.6292 - lr: 1.6000e-06\n",
            "Epoch 8/25\n",
            "224/224 [==============================] - ETA: 0s - loss: 0.6929 - accuracy: 0.5120\n",
            "Epoch 8: val_accuracy did not improve from 0.63333\n",
            "\n",
            "Epoch 8: ReduceLROnPlateau reducing learning rate to 6.400000529538374e-08.\n",
            "224/224 [==============================] - 32s 141ms/step - loss: 0.6929 - accuracy: 0.5120 - val_loss: 0.6878 - val_accuracy: 0.6278 - lr: 3.2000e-07\n",
            "Epoch 9/25\n",
            "224/224 [==============================] - ETA: 0s - loss: 0.6928 - accuracy: 0.5125\n",
            "Epoch 9: val_accuracy did not improve from 0.63333\n",
            "\n",
            "Epoch 9: ReduceLROnPlateau reducing learning rate to 1.2800001059076749e-08.\n",
            "224/224 [==============================] - 32s 141ms/step - loss: 0.6928 - accuracy: 0.5125 - val_loss: 0.6877 - val_accuracy: 0.6285 - lr: 6.4000e-08\n",
            "Epoch 10/25\n",
            "224/224 [==============================] - ETA: 0s - loss: 0.6928 - accuracy: 0.5123\n",
            "Epoch 10: val_accuracy did not improve from 0.63333\n",
            "\n",
            "Epoch 10: ReduceLROnPlateau reducing learning rate to 2.5600002118153498e-09.\n",
            "224/224 [==============================] - 32s 141ms/step - loss: 0.6928 - accuracy: 0.5123 - val_loss: 0.6877 - val_accuracy: 0.6299 - lr: 1.2800e-08\n",
            "Epoch 11/25\n",
            "224/224 [==============================] - ETA: 0s - loss: 0.6928 - accuracy: 0.5126\n",
            "Epoch 11: val_accuracy did not improve from 0.63333\n",
            "\n",
            "Epoch 11: ReduceLROnPlateau reducing learning rate to 5.1200004236307e-10.\n",
            "224/224 [==============================] - 32s 142ms/step - loss: 0.6928 - accuracy: 0.5126 - val_loss: 0.6877 - val_accuracy: 0.6299 - lr: 2.5600e-09\n",
            "Epoch 12/25\n",
            "224/224 [==============================] - ETA: 0s - loss: 0.6928 - accuracy: 0.5125\n",
            "Epoch 12: val_accuracy did not improve from 0.63333\n",
            "\n",
            "Epoch 12: ReduceLROnPlateau reducing learning rate to 1.0240001069306004e-10.\n",
            "224/224 [==============================] - 32s 142ms/step - loss: 0.6928 - accuracy: 0.5125 - val_loss: 0.6876 - val_accuracy: 0.6313 - lr: 5.1200e-10\n",
            "Epoch 13/25\n",
            "224/224 [==============================] - ETA: 0s - loss: 0.6928 - accuracy: 0.5129\n",
            "Epoch 13: val_accuracy did not improve from 0.63333\n",
            "\n",
            "Epoch 13: ReduceLROnPlateau reducing learning rate to 2.0480002416167767e-11.\n",
            "224/224 [==============================] - 32s 141ms/step - loss: 0.6928 - accuracy: 0.5129 - val_loss: 0.6876 - val_accuracy: 0.6306 - lr: 1.0240e-10\n",
            "Epoch 14/25\n",
            "224/224 [==============================] - ETA: 0s - loss: 0.6929 - accuracy: 0.5116\n",
            "Epoch 14: val_accuracy did not improve from 0.63333\n",
            "\n",
            "Epoch 14: ReduceLROnPlateau reducing learning rate to 4.096000622011431e-12.\n",
            "224/224 [==============================] - 31s 140ms/step - loss: 0.6929 - accuracy: 0.5116 - val_loss: 0.6877 - val_accuracy: 0.6299 - lr: 2.0480e-11\n",
            "Epoch 15/25\n",
            "224/224 [==============================] - ETA: 0s - loss: 0.6928 - accuracy: 0.5125\n",
            "Epoch 15: val_accuracy did not improve from 0.63333\n",
            "\n",
            "Epoch 15: ReduceLROnPlateau reducing learning rate to 8.192000897078167e-13.\n",
            "224/224 [==============================] - 32s 142ms/step - loss: 0.6928 - accuracy: 0.5125 - val_loss: 0.6876 - val_accuracy: 0.6306 - lr: 4.0960e-12\n",
            "Epoch 16/25\n",
            "224/224 [==============================] - ETA: 0s - loss: 0.6928 - accuracy: 0.5126\n",
            "Epoch 16: val_accuracy did not improve from 0.63333\n",
            "\n",
            "Epoch 16: ReduceLROnPlateau reducing learning rate to 1.6384001360475466e-13.\n",
            "224/224 [==============================] - 32s 143ms/step - loss: 0.6928 - accuracy: 0.5126 - val_loss: 0.6877 - val_accuracy: 0.6299 - lr: 8.1920e-13\n",
            "Epoch 17/25\n",
            "224/224 [==============================] - ETA: 0s - loss: 0.6928 - accuracy: 0.5126\n",
            "Epoch 17: val_accuracy did not improve from 0.63333\n",
            "\n",
            "Epoch 17: ReduceLROnPlateau reducing learning rate to 3.2768002178849846e-14.\n",
            "224/224 [==============================] - 31s 140ms/step - loss: 0.6928 - accuracy: 0.5126 - val_loss: 0.6877 - val_accuracy: 0.6299 - lr: 1.6384e-13\n",
            "Epoch 18/25\n",
            "224/224 [==============================] - ETA: 0s - loss: 0.6928 - accuracy: 0.5126\n",
            "Epoch 18: val_accuracy did not improve from 0.63333\n",
            "\n",
            "Epoch 18: ReduceLROnPlateau reducing learning rate to 6.553600300244697e-15.\n",
            "224/224 [==============================] - 32s 142ms/step - loss: 0.6928 - accuracy: 0.5126 - val_loss: 0.6876 - val_accuracy: 0.6306 - lr: 3.2768e-14\n",
            "Epoch 19/25\n",
            "224/224 [==============================] - ETA: 0s - loss: 0.6928 - accuracy: 0.5129\n",
            "Epoch 19: val_accuracy did not improve from 0.63333\n",
            "\n",
            "Epoch 19: ReduceLROnPlateau reducing learning rate to 1.3107200431082805e-15.\n",
            "224/224 [==============================] - 32s 143ms/step - loss: 0.6928 - accuracy: 0.5129 - val_loss: 0.6876 - val_accuracy: 0.6313 - lr: 6.5536e-15\n",
            "Epoch 20/25\n",
            "224/224 [==============================] - ETA: 0s - loss: 0.6928 - accuracy: 0.5130\n",
            "Epoch 20: val_accuracy did not improve from 0.63333\n",
            "\n",
            "Epoch 20: ReduceLROnPlateau reducing learning rate to 2.6214401285682084e-16.\n",
            "224/224 [==============================] - 32s 141ms/step - loss: 0.6928 - accuracy: 0.5130 - val_loss: 0.6876 - val_accuracy: 0.6313 - lr: 1.3107e-15\n",
            "Epoch 21/25\n",
            "224/224 [==============================] - ETA: 0s - loss: 0.6928 - accuracy: 0.5126\n",
            "Epoch 21: val_accuracy did not improve from 0.63333\n",
            "\n",
            "Epoch 21: ReduceLROnPlateau reducing learning rate to 5.2428803630155353e-17.\n",
            "224/224 [==============================] - 32s 142ms/step - loss: 0.6928 - accuracy: 0.5126 - val_loss: 0.6877 - val_accuracy: 0.6299 - lr: 2.6214e-16\n",
            "Epoch 22/25\n",
            "224/224 [==============================] - ETA: 0s - loss: 0.6928 - accuracy: 0.5127\n",
            "Epoch 22: val_accuracy did not improve from 0.63333\n",
            "\n",
            "Epoch 22: ReduceLROnPlateau reducing learning rate to 1.0485760990728867e-17.\n",
            "224/224 [==============================] - 32s 141ms/step - loss: 0.6928 - accuracy: 0.5127 - val_loss: 0.6875 - val_accuracy: 0.6333 - lr: 5.2429e-17\n",
            "Epoch 23/25\n",
            "224/224 [==============================] - ETA: 0s - loss: 0.6928 - accuracy: 0.5137\n",
            "Epoch 23: val_accuracy did not improve from 0.63333\n",
            "\n",
            "Epoch 23: ReduceLROnPlateau reducing learning rate to 2.097152165058549e-18.\n",
            "224/224 [==============================] - 32s 142ms/step - loss: 0.6928 - accuracy: 0.5137 - val_loss: 0.6877 - val_accuracy: 0.6299 - lr: 1.0486e-17\n",
            "Epoch 24/25\n",
            "224/224 [==============================] - ETA: 0s - loss: 0.6929 - accuracy: 0.5122\n",
            "Epoch 24: val_accuracy did not improve from 0.63333\n",
            "\n",
            "Epoch 24: ReduceLROnPlateau reducing learning rate to 4.19430449555322e-19.\n",
            "224/224 [==============================] - 31s 140ms/step - loss: 0.6929 - accuracy: 0.5122 - val_loss: 0.6876 - val_accuracy: 0.6313 - lr: 2.0972e-18\n",
            "Epoch 25/25\n",
            "224/224 [==============================] - ETA: 0s - loss: 0.6929 - accuracy: 0.5119\n",
            "Epoch 25: val_accuracy did not improve from 0.63333\n",
            "\n",
            "Epoch 25: ReduceLROnPlateau reducing learning rate to 8.388609197901593e-20.\n",
            "224/224 [==============================] - 32s 141ms/step - loss: 0.6929 - accuracy: 0.5119 - val_loss: 0.6875 - val_accuracy: 0.6333 - lr: 4.1943e-19\n"
          ]
        }
      ],
      "source": [
        "history = model.fit(\n",
        "    training_set,\n",
        "    steps_per_epoch=training_set.n // 32,\n",
        "    validation_data=validation_set,\n",
        "    validation_steps = validation_set.n // 32,\n",
        "    epochs=25, verbose=1, batch_size=32,\n",
        "    callbacks=[checkpoint, reduce_lr]\n",
        ")"
      ],
      "id": "1Q-fJV7vdCK6"
    },
    {
      "cell_type": "code",
      "execution_count": null,
      "metadata": {
        "colab": {
          "base_uri": "https://localhost:8080/",
          "height": 472
        },
        "id": "OD5AoRz565tB",
        "outputId": "cd5a00b6-f432-44be-a921-831f1bd5a5e8"
      },
      "outputs": [
        {
          "data": {
            "image/png": "[encoded data removed]",
            "text/plain": [
              "<Figure size 640x480 with 1 Axes>"
            ]
          },
          "metadata": {},
          "output_type": "display_data"
        }
      ],
      "source": [
        "plt.plot(history.history['loss'])\n",
        "plt.plot(history.history['val_loss'])\n",
        "plt.title('Model loss')\n",
        "plt.ylabel('loss')\n",
        "plt.xlabel('epoch')\n",
        "plt.legend(['train_loss','val_loss'], loc = 'upper right')\n",
        "plt.show()"
      ],
      "id": "OD5AoRz565tB"
    },
    {
      "cell_type": "code",
      "execution_count": null,
      "metadata": {
        "colab": {
          "base_uri": "https://localhost:8080/",
          "height": 472
        },
        "id": "_zSPdAbZ85CU",
        "outputId": "15ae6542-fd8a-4407-8858-ec36f41bbc11"
      },
      "outputs": [
        {
          "data": {
            "image/png": "[encoded data removed]",
            "text/plain": [
              "<Figure size 640x480 with 1 Axes>"
            ]
          },
          "metadata": {},
          "output_type": "display_data"
        }
      ],
      "source": [
        "plt.plot(history.history['accuracy'])\n",
        "plt.plot(history.history['val_accuracy'])\n",
        "plt.title('Model accuracy')\n",
        "plt.ylabel('accuracy')\n",
        "plt.xlabel('epoch')\n",
        "plt.legend(['train_accuracy','val_accuracy'], loc = 'upper right')\n",
        "plt.show()"
      ],
      "id": "_zSPdAbZ85CU"
    },
    {
      "cell_type": "markdown",
      "metadata": {
        "id": "opening-traveler"
      },
      "source": [
        "# Prediction"
      ],
      "id": "opening-traveler"
    },
    {
      "cell_type": "markdown",
      "metadata": {
        "id": "dress-serial"
      },
      "source": [
        "I've used the *argmax function* as each row from the prediction array contains four values for the respective labels. The **maximum** value which is in each row depicts the predicted output out of the 4 possible outcomes.<br>\n",
        "So with *argmax*, I'm able to find out the index associated with the predicted outcome."
      ],
      "id": "dress-serial"
    },
    {
      "cell_type": "code",
      "execution_count": null,
      "metadata": {
        "id": "8oyO3gUr99Sk"
      },
      "outputs": [],
      "source": [
        "from sklearn.metrics import accuracy_score, roc_curve, auc"
      ],
      "id": "8oyO3gUr99Sk"
    },
    {
      "cell_type": "code",
      "execution_count": null,
      "metadata": {
        "colab": {
          "base_uri": "https://localhost:8080/",
          "height": 1000
        },
        "id": "3XiWSlJd9dTi",
        "outputId": "fd20c0fa-cd9e-4bc9-bf40-0333e8ffe178"
      },
      "outputs": [
        {
          "name": "stdout",
          "output_type": "stream",
          "text": [
            "77/77 [==============================] - 6s 78ms/step\n",
            "Test Accuracy: 45.31%\n"
          ]
        },
        {
          "data": {
            "image/png": "[encoded data removed]",
            "text/plain": [
              "<Figure size 640x480 with 1 Axes>"
            ]
          },
          "metadata": {},
          "output_type": "display_data"
        },
        {
          "data": {
            "image/png": "[encoded data removed]",
            "text/plain": [
              "<Figure size 800x600 with 2 Axes>"
            ]
          },
          "metadata": {},
          "output_type": "display_data"
        },
        {
          "name": "stdout",
          "output_type": "stream",
          "text": [
            "Confusion Matrix:\n",
            "[[   0 1340]\n",
            " [   0 1110]]\n"
          ]
        }
      ],
      "source": [
        "class_names = list(training_set.class_indices.keys())\n",
        "\n",
        "# Make predictions on the test data\n",
        "predictions = model.predict(test_set)\n",
        "\n",
        "# 'predictions' will contain the predicted probabilities for each image\n",
        "# For binary classification, you can threshold the probabilities to get class predictions (0 or 1)\n",
        "predicted_classes = (predictions > 0.5).astype(int)\n",
        "\n",
        "# Get the true class labels for the test data\n",
        "true_classes = test_set.classes\n",
        "\n",
        "# Calculate test accuracy\n",
        "test_accuracy = accuracy_score(true_classes, predicted_classes)\n",
        "\n",
        "# Print and return the test accuracy\n",
        "print(f\"Test Accuracy: {test_accuracy * 100:.2f}%\")\n",
        "\n",
        "# Calculate the ROC curve\n",
        "fpr, tpr, _ = roc_curve(true_classes, predictions)\n",
        "roc_auc = auc(fpr, tpr)\n",
        "\n",
        "# Plot the ROC curve\n",
        "plt.figure()\n",
        "plt.plot(fpr, tpr, color='darkorange', lw=2, label='ROC curve (area = {:.2f})'.format(roc_auc))\n",
        "plt.plot([0, 1], [0, 1], color='navy', lw=2, linestyle='--')\n",
        "plt.xlim([0.0, 1.0])\n",
        "plt.ylim([0.0, 1.05])\n",
        "plt.xlabel('False Positive Rate')\n",
        "plt.ylabel('True Positive Rate')\n",
        "plt.title('Receiver Operating Characteristic')\n",
        "plt.legend(loc='lower right')\n",
        "\n",
        "# Calculate the confusion matrix\n",
        "conf_matrix = confusion_matrix(true_classes, predicted_classes)\n",
        "\n",
        "# Plot the confusion matrix as a heatmap\n",
        "plt.figure(figsize=(8, 6))\n",
        "sns.heatmap(conf_matrix, annot=True, fmt='d', cmap='Blues', xticklabels=class_names, yticklabels=class_names)\n",
        "plt.xlabel('Predicted')\n",
        "plt.ylabel('True')\n",
        "plt.title('Confusion Matrix')\n",
        "plt.show()\n",
        "\n",
        "# Print and return the confusion matrix\n",
        "print(\"Confusion Matrix:\")\n",
        "print(conf_matrix)"
      ],
      "id": "3XiWSlJd9dTi"
    },
    {
      "cell_type": "code",
      "execution_count": null,
      "metadata": {
        "id": "ua2ByQoZ9Q6P"
      },
      "outputs": [],
      "source": [
        "model.load_weights(\"/content/drive/MyDrive/ABIDE-I dataset/effnet.h5\")"
      ],
      "id": "ua2ByQoZ9Q6P"
    },
    {
      "cell_type": "code",
      "execution_count": null,
      "metadata": {
        "id": "spread-dietary"
      },
      "outputs": [],
      "source": [
        "# Evaluate the performance of the model\n",
        "evaluate = model.evaluate(test_set, steps = test_set.n // 32, verbose =1)\n",
        "\n",
        "print('Accuracy Test : {}'.format(evaluate[1]))"
      ],
      "id": "spread-dietary"
    },
    {
      "cell_type": "code",
      "execution_count": null,
      "metadata": {
        "id": "rUBxcQ7H-vrx"
      },
      "outputs": [],
      "source": [
        "evaluate"
      ],
      "id": "rUBxcQ7H-vrx"
    },
    {
      "cell_type": "code",
      "execution_count": null,
      "metadata": {
        "id": "GLd6Kv9b_G3B"
      },
      "outputs": [],
      "source": [
        "\n",
        "# Start TensorBoard within the notebook\n",
        "%tensorboard --logdir=./logs\n"
      ],
      "id": "GLd6Kv9b_G3B"
    },
    {
      "cell_type": "markdown",
      "metadata": {
        "id": "competitive-barrier"
      },
      "source": [
        "---"
      ],
      "id": "competitive-barrier"
    },
    {
      "cell_type": "markdown",
      "metadata": {
        "id": "worse-survivor"
      },
      "source": [
        "# Evaluation"
      ],
      "id": "worse-survivor"
    },
    {
      "cell_type": "markdown",
      "metadata": {
        "id": "numerical-universal"
      },
      "source": [
        "In this, <br>\n",
        "0 - Glioma Tumor<br>\n",
        "1 - No Tumor<br>\n",
        "2 - Meningioma Tumor<br>\n",
        "3 - Pituitary Tumor<br>"
      ],
      "id": "numerical-universal"
    },
    {
      "cell_type": "code",
      "execution_count": null,
      "metadata": {
        "colab": {
          "base_uri": "https://localhost:8080/"
        },
        "id": "corporate-links",
        "outputId": "cfbdcc32-d8e2-4d98-f172-fc977a8031d2"
      },
      "outputs": [
        {
          "name": "stdout",
          "output_type": "stream",
          "text": [
            "              precision    recall  f1-score   support\n",
            "\n",
            "           0       0.55      1.00      0.71      1340\n",
            "           1       0.00      0.00      0.00      1110\n",
            "\n",
            "    accuracy                           0.55      2450\n",
            "   macro avg       0.27      0.50      0.35      2450\n",
            "weighted avg       0.30      0.55      0.39      2450\n",
            "\n"
          ]
        }
      ],
      "source": [
        "print(classification_report(y_test_new,pred))"
      ],
      "id": "corporate-links"
    },
    {
      "cell_type": "code",
      "execution_count": null,
      "metadata": {
        "colab": {
          "base_uri": "https://localhost:8080/",
          "height": 647
        },
        "id": "passive-thermal",
        "outputId": "757d4343-68c2-4e43-b5e8-7522bead2575"
      },
      "outputs": [
        {
          "data": {
            "image/png": "[encoded data removed]",
            "text/plain": [
              "<Figure size 1400x700 with 2 Axes>"
            ]
          },
          "metadata": {},
          "output_type": "display_data"
        }
      ],
      "source": [
        "fig,ax=plt.subplots(1,1,figsize=(14,7))\n",
        "sns.heatmap(confusion_matrix(y_test_new,pred),ax=ax,xticklabels=labels,yticklabels=labels,annot=True,\n",
        "           cmap=colors_green[::-1],alpha=0.7,linewidths=2,linecolor=colors_dark[3])\n",
        "fig.text(s='Heatmap of the Confusion Matrix',size=18,fontweight='bold',\n",
        "             fontname='monospace',color=colors_dark[1],y=0.92,x=0.28,alpha=0.8)\n",
        "\n",
        "plt.show()"
      ],
      "id": "passive-thermal"
    },
    {
      "cell_type": "markdown",
      "metadata": {
        "id": "legislative-typing"
      },
      "source": [
        "# <center>Thank You!"
      ],
      "id": "legislative-typing"
    }
  ],
  "metadata": {
    "colab": {
      "provenance": [],
      "gpuType": "T4"
    },
    "kernelspec": {
      "display_name": "Python 3",
      "name": "python3"
    },
    "language_info": {
      "codemirror_mode": {
        "name": "ipython",
        "version": 3
      },
      "file_extension": ".py",
      "mimetype": "text/x-python",
      "name": "python",
      "nbconvert_exporter": "python",
      "pygments_lexer": "ipython3",
      "version": "3.7.10"
    },
    "papermill": {
      "default_parameters": {},
      "duration": 210.990581,
      "end_time": "2021-08-12T12:53:59.113552",
      "environment_variables": {},
      "exception": null,
      "input_path": "__notebook__.ipynb",
      "output_path": "__notebook__.ipynb",
      "parameters": {},
      "start_time": "2021-08-12T12:50:28.122971",
      "version": "2.3.3"
    },
    "accelerator": "GPU"
  },
  "nbformat": 4,
  "nbformat_minor": 5
}